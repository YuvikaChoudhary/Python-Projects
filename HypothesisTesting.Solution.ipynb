{
 "cells": [
  {
   "cell_type": "code",
   "execution_count": 97,
   "id": "52402fc8",
   "metadata": {},
   "outputs": [],
   "source": [
    "import numpy as np\n",
    "import pandas as pd\n",
    "import matplotlib.pyplot as plt\n",
    "import seaborn as sns\n",
    "import scipy.stats as stats\n",
    "import statsmodels.api as sm\n",
    "from sklearn.model_selection import train_test_split\n",
    "from sklearn.linear_model import LinearRegression, LogisticRegression"
   ]
  },
  {
   "cell_type": "markdown",
   "id": "3cea173d",
   "metadata": {},
   "source": [
    "# `BUSINESS PROBLEM-1`"
   ]
  },
  {
   "cell_type": "code",
   "execution_count": 98,
   "id": "4a1acc64",
   "metadata": {},
   "outputs": [],
   "source": [
    "loan = pd.read_csv(\"D:\\LoansData.csv\")\n"
   ]
  },
  {
   "cell_type": "code",
   "execution_count": 99,
   "id": "93a8a572",
   "metadata": {},
   "outputs": [
    {
     "data": {
      "text/html": [
       "<div>\n",
       "<style scoped>\n",
       "    .dataframe tbody tr th:only-of-type {\n",
       "        vertical-align: middle;\n",
       "    }\n",
       "\n",
       "    .dataframe tbody tr th {\n",
       "        vertical-align: top;\n",
       "    }\n",
       "\n",
       "    .dataframe thead th {\n",
       "        text-align: right;\n",
       "    }\n",
       "</style>\n",
       "<table border=\"1\" class=\"dataframe\">\n",
       "  <thead>\n",
       "    <tr style=\"text-align: right;\">\n",
       "      <th></th>\n",
       "      <th>Amount.Requested</th>\n",
       "      <th>Amount.Funded.By.Investors</th>\n",
       "      <th>Interest.Rate</th>\n",
       "      <th>Loan.Length</th>\n",
       "      <th>Loan.Purpose</th>\n",
       "      <th>Debt.To.Income.Ratio</th>\n",
       "      <th>State</th>\n",
       "      <th>Home.Ownership</th>\n",
       "      <th>Monthly.Income</th>\n",
       "      <th>FICO.Range</th>\n",
       "      <th>Open.CREDIT.Lines</th>\n",
       "      <th>Revolving.CREDIT.Balance</th>\n",
       "      <th>Inquiries.in.the.Last.6.Months</th>\n",
       "      <th>Employment.Length</th>\n",
       "    </tr>\n",
       "  </thead>\n",
       "  <tbody>\n",
       "    <tr>\n",
       "      <th>0</th>\n",
       "      <td>20000.0</td>\n",
       "      <td>20000.00</td>\n",
       "      <td>8.90%</td>\n",
       "      <td>36 months</td>\n",
       "      <td>debt_consolidation</td>\n",
       "      <td>14.90%</td>\n",
       "      <td>SC</td>\n",
       "      <td>MORTGAGE</td>\n",
       "      <td>6541.67</td>\n",
       "      <td>735-739</td>\n",
       "      <td>14.0</td>\n",
       "      <td>14272.0</td>\n",
       "      <td>2.0</td>\n",
       "      <td>&lt; 1 year</td>\n",
       "    </tr>\n",
       "    <tr>\n",
       "      <th>1</th>\n",
       "      <td>19200.0</td>\n",
       "      <td>19200.00</td>\n",
       "      <td>12.12%</td>\n",
       "      <td>36 months</td>\n",
       "      <td>debt_consolidation</td>\n",
       "      <td>28.36%</td>\n",
       "      <td>TX</td>\n",
       "      <td>MORTGAGE</td>\n",
       "      <td>4583.33</td>\n",
       "      <td>715-719</td>\n",
       "      <td>12.0</td>\n",
       "      <td>11140.0</td>\n",
       "      <td>1.0</td>\n",
       "      <td>2 years</td>\n",
       "    </tr>\n",
       "    <tr>\n",
       "      <th>2</th>\n",
       "      <td>35000.0</td>\n",
       "      <td>35000.00</td>\n",
       "      <td>21.98%</td>\n",
       "      <td>60 months</td>\n",
       "      <td>debt_consolidation</td>\n",
       "      <td>23.81%</td>\n",
       "      <td>CA</td>\n",
       "      <td>MORTGAGE</td>\n",
       "      <td>11500.00</td>\n",
       "      <td>690-694</td>\n",
       "      <td>14.0</td>\n",
       "      <td>21977.0</td>\n",
       "      <td>1.0</td>\n",
       "      <td>2 years</td>\n",
       "    </tr>\n",
       "    <tr>\n",
       "      <th>3</th>\n",
       "      <td>10000.0</td>\n",
       "      <td>9975.00</td>\n",
       "      <td>9.99%</td>\n",
       "      <td>36 months</td>\n",
       "      <td>debt_consolidation</td>\n",
       "      <td>14.30%</td>\n",
       "      <td>KS</td>\n",
       "      <td>MORTGAGE</td>\n",
       "      <td>3833.33</td>\n",
       "      <td>695-699</td>\n",
       "      <td>10.0</td>\n",
       "      <td>9346.0</td>\n",
       "      <td>0.0</td>\n",
       "      <td>5 years</td>\n",
       "    </tr>\n",
       "    <tr>\n",
       "      <th>4</th>\n",
       "      <td>12000.0</td>\n",
       "      <td>12000.00</td>\n",
       "      <td>11.71%</td>\n",
       "      <td>36 months</td>\n",
       "      <td>credit_card</td>\n",
       "      <td>18.78%</td>\n",
       "      <td>NJ</td>\n",
       "      <td>RENT</td>\n",
       "      <td>3195.00</td>\n",
       "      <td>695-699</td>\n",
       "      <td>11.0</td>\n",
       "      <td>14469.0</td>\n",
       "      <td>0.0</td>\n",
       "      <td>9 years</td>\n",
       "    </tr>\n",
       "    <tr>\n",
       "      <th>...</th>\n",
       "      <td>...</td>\n",
       "      <td>...</td>\n",
       "      <td>...</td>\n",
       "      <td>...</td>\n",
       "      <td>...</td>\n",
       "      <td>...</td>\n",
       "      <td>...</td>\n",
       "      <td>...</td>\n",
       "      <td>...</td>\n",
       "      <td>...</td>\n",
       "      <td>...</td>\n",
       "      <td>...</td>\n",
       "      <td>...</td>\n",
       "      <td>...</td>\n",
       "    </tr>\n",
       "    <tr>\n",
       "      <th>2495</th>\n",
       "      <td>30000.0</td>\n",
       "      <td>29950.00</td>\n",
       "      <td>16.77%</td>\n",
       "      <td>60 months</td>\n",
       "      <td>debt_consolidation</td>\n",
       "      <td>19.23%</td>\n",
       "      <td>NY</td>\n",
       "      <td>MORTGAGE</td>\n",
       "      <td>9250.00</td>\n",
       "      <td>705-709</td>\n",
       "      <td>15.0</td>\n",
       "      <td>45880.0</td>\n",
       "      <td>1.0</td>\n",
       "      <td>8 years</td>\n",
       "    </tr>\n",
       "    <tr>\n",
       "      <th>2496</th>\n",
       "      <td>16000.0</td>\n",
       "      <td>16000.00</td>\n",
       "      <td>14.09%</td>\n",
       "      <td>60 months</td>\n",
       "      <td>home_improvement</td>\n",
       "      <td>21.54%</td>\n",
       "      <td>MD</td>\n",
       "      <td>OWN</td>\n",
       "      <td>8903.25</td>\n",
       "      <td>740-744</td>\n",
       "      <td>18.0</td>\n",
       "      <td>18898.0</td>\n",
       "      <td>1.0</td>\n",
       "      <td>10+ years</td>\n",
       "    </tr>\n",
       "    <tr>\n",
       "      <th>2497</th>\n",
       "      <td>10000.0</td>\n",
       "      <td>10000.00</td>\n",
       "      <td>13.99%</td>\n",
       "      <td>36 months</td>\n",
       "      <td>debt_consolidation</td>\n",
       "      <td>4.89%</td>\n",
       "      <td>PA</td>\n",
       "      <td>MORTGAGE</td>\n",
       "      <td>2166.67</td>\n",
       "      <td>680-684</td>\n",
       "      <td>4.0</td>\n",
       "      <td>4544.0</td>\n",
       "      <td>0.0</td>\n",
       "      <td>10+ years</td>\n",
       "    </tr>\n",
       "    <tr>\n",
       "      <th>2498</th>\n",
       "      <td>6000.0</td>\n",
       "      <td>6000.00</td>\n",
       "      <td>12.42%</td>\n",
       "      <td>36 months</td>\n",
       "      <td>major_purchase</td>\n",
       "      <td>16.66%</td>\n",
       "      <td>NJ</td>\n",
       "      <td>RENT</td>\n",
       "      <td>3500.00</td>\n",
       "      <td>675-679</td>\n",
       "      <td>8.0</td>\n",
       "      <td>7753.0</td>\n",
       "      <td>0.0</td>\n",
       "      <td>5 years</td>\n",
       "    </tr>\n",
       "    <tr>\n",
       "      <th>2499</th>\n",
       "      <td>9000.0</td>\n",
       "      <td>5242.75</td>\n",
       "      <td>13.79%</td>\n",
       "      <td>36 months</td>\n",
       "      <td>debt_consolidation</td>\n",
       "      <td>6.76%</td>\n",
       "      <td>NY</td>\n",
       "      <td>RENT</td>\n",
       "      <td>3875.00</td>\n",
       "      <td>670-674</td>\n",
       "      <td>7.0</td>\n",
       "      <td>7589.0</td>\n",
       "      <td>0.0</td>\n",
       "      <td>10+ years</td>\n",
       "    </tr>\n",
       "  </tbody>\n",
       "</table>\n",
       "<p>2500 rows × 14 columns</p>\n",
       "</div>"
      ],
      "text/plain": [
       "      Amount.Requested  Amount.Funded.By.Investors Interest.Rate Loan.Length  \\\n",
       "0              20000.0                    20000.00         8.90%   36 months   \n",
       "1              19200.0                    19200.00        12.12%   36 months   \n",
       "2              35000.0                    35000.00        21.98%   60 months   \n",
       "3              10000.0                     9975.00         9.99%   36 months   \n",
       "4              12000.0                    12000.00        11.71%   36 months   \n",
       "...                ...                         ...           ...         ...   \n",
       "2495           30000.0                    29950.00        16.77%   60 months   \n",
       "2496           16000.0                    16000.00        14.09%   60 months   \n",
       "2497           10000.0                    10000.00        13.99%   36 months   \n",
       "2498            6000.0                     6000.00        12.42%   36 months   \n",
       "2499            9000.0                     5242.75        13.79%   36 months   \n",
       "\n",
       "            Loan.Purpose Debt.To.Income.Ratio State Home.Ownership  \\\n",
       "0     debt_consolidation               14.90%    SC       MORTGAGE   \n",
       "1     debt_consolidation               28.36%    TX       MORTGAGE   \n",
       "2     debt_consolidation               23.81%    CA       MORTGAGE   \n",
       "3     debt_consolidation               14.30%    KS       MORTGAGE   \n",
       "4            credit_card               18.78%    NJ           RENT   \n",
       "...                  ...                  ...   ...            ...   \n",
       "2495  debt_consolidation               19.23%    NY       MORTGAGE   \n",
       "2496    home_improvement               21.54%    MD            OWN   \n",
       "2497  debt_consolidation                4.89%    PA       MORTGAGE   \n",
       "2498      major_purchase               16.66%    NJ           RENT   \n",
       "2499  debt_consolidation                6.76%    NY           RENT   \n",
       "\n",
       "      Monthly.Income FICO.Range  Open.CREDIT.Lines  Revolving.CREDIT.Balance  \\\n",
       "0            6541.67    735-739               14.0                   14272.0   \n",
       "1            4583.33    715-719               12.0                   11140.0   \n",
       "2           11500.00    690-694               14.0                   21977.0   \n",
       "3            3833.33    695-699               10.0                    9346.0   \n",
       "4            3195.00    695-699               11.0                   14469.0   \n",
       "...              ...        ...                ...                       ...   \n",
       "2495         9250.00    705-709               15.0                   45880.0   \n",
       "2496         8903.25    740-744               18.0                   18898.0   \n",
       "2497         2166.67    680-684                4.0                    4544.0   \n",
       "2498         3500.00    675-679                8.0                    7753.0   \n",
       "2499         3875.00    670-674                7.0                    7589.0   \n",
       "\n",
       "      Inquiries.in.the.Last.6.Months Employment.Length  \n",
       "0                                2.0          < 1 year  \n",
       "1                                1.0           2 years  \n",
       "2                                1.0           2 years  \n",
       "3                                0.0           5 years  \n",
       "4                                0.0           9 years  \n",
       "...                              ...               ...  \n",
       "2495                             1.0           8 years  \n",
       "2496                             1.0         10+ years  \n",
       "2497                             0.0         10+ years  \n",
       "2498                             0.0           5 years  \n",
       "2499                             0.0         10+ years  \n",
       "\n",
       "[2500 rows x 14 columns]"
      ]
     },
     "execution_count": 99,
     "metadata": {},
     "output_type": "execute_result"
    }
   ],
   "source": [
    "loan"
   ]
  },
  {
   "cell_type": "markdown",
   "id": "9a4bc189",
   "metadata": {},
   "source": [
    "# `Data Preparation`"
   ]
  },
  {
   "cell_type": "code",
   "execution_count": 100,
   "id": "fbdedacb",
   "metadata": {},
   "outputs": [],
   "source": [
    "loan.columns = loan.columns.str.replace('.', '_', regex=False)"
   ]
  },
  {
   "cell_type": "code",
   "execution_count": 101,
   "id": "c05edcd9",
   "metadata": {},
   "outputs": [
    {
     "data": {
      "text/html": [
       "<div>\n",
       "<style scoped>\n",
       "    .dataframe tbody tr th:only-of-type {\n",
       "        vertical-align: middle;\n",
       "    }\n",
       "\n",
       "    .dataframe tbody tr th {\n",
       "        vertical-align: top;\n",
       "    }\n",
       "\n",
       "    .dataframe thead th {\n",
       "        text-align: right;\n",
       "    }\n",
       "</style>\n",
       "<table border=\"1\" class=\"dataframe\">\n",
       "  <thead>\n",
       "    <tr style=\"text-align: right;\">\n",
       "      <th></th>\n",
       "      <th>Amount_Requested</th>\n",
       "      <th>Amount_Funded_By_Investors</th>\n",
       "      <th>Interest_Rate</th>\n",
       "      <th>Loan_Length</th>\n",
       "      <th>Loan_Purpose</th>\n",
       "      <th>Debt_To_Income_Ratio</th>\n",
       "      <th>State</th>\n",
       "      <th>Home_Ownership</th>\n",
       "      <th>Monthly_Income</th>\n",
       "      <th>FICO_Range</th>\n",
       "      <th>Open_CREDIT_Lines</th>\n",
       "      <th>Revolving_CREDIT_Balance</th>\n",
       "      <th>Inquiries_in_the_Last_6_Months</th>\n",
       "      <th>Employment_Length</th>\n",
       "    </tr>\n",
       "  </thead>\n",
       "  <tbody>\n",
       "    <tr>\n",
       "      <th>0</th>\n",
       "      <td>20000.0</td>\n",
       "      <td>20000.00</td>\n",
       "      <td>8.90%</td>\n",
       "      <td>36 months</td>\n",
       "      <td>debt_consolidation</td>\n",
       "      <td>14.90%</td>\n",
       "      <td>SC</td>\n",
       "      <td>MORTGAGE</td>\n",
       "      <td>6541.67</td>\n",
       "      <td>735-739</td>\n",
       "      <td>14.0</td>\n",
       "      <td>14272.0</td>\n",
       "      <td>2.0</td>\n",
       "      <td>&lt; 1 year</td>\n",
       "    </tr>\n",
       "    <tr>\n",
       "      <th>1</th>\n",
       "      <td>19200.0</td>\n",
       "      <td>19200.00</td>\n",
       "      <td>12.12%</td>\n",
       "      <td>36 months</td>\n",
       "      <td>debt_consolidation</td>\n",
       "      <td>28.36%</td>\n",
       "      <td>TX</td>\n",
       "      <td>MORTGAGE</td>\n",
       "      <td>4583.33</td>\n",
       "      <td>715-719</td>\n",
       "      <td>12.0</td>\n",
       "      <td>11140.0</td>\n",
       "      <td>1.0</td>\n",
       "      <td>2 years</td>\n",
       "    </tr>\n",
       "    <tr>\n",
       "      <th>2</th>\n",
       "      <td>35000.0</td>\n",
       "      <td>35000.00</td>\n",
       "      <td>21.98%</td>\n",
       "      <td>60 months</td>\n",
       "      <td>debt_consolidation</td>\n",
       "      <td>23.81%</td>\n",
       "      <td>CA</td>\n",
       "      <td>MORTGAGE</td>\n",
       "      <td>11500.00</td>\n",
       "      <td>690-694</td>\n",
       "      <td>14.0</td>\n",
       "      <td>21977.0</td>\n",
       "      <td>1.0</td>\n",
       "      <td>2 years</td>\n",
       "    </tr>\n",
       "    <tr>\n",
       "      <th>3</th>\n",
       "      <td>10000.0</td>\n",
       "      <td>9975.00</td>\n",
       "      <td>9.99%</td>\n",
       "      <td>36 months</td>\n",
       "      <td>debt_consolidation</td>\n",
       "      <td>14.30%</td>\n",
       "      <td>KS</td>\n",
       "      <td>MORTGAGE</td>\n",
       "      <td>3833.33</td>\n",
       "      <td>695-699</td>\n",
       "      <td>10.0</td>\n",
       "      <td>9346.0</td>\n",
       "      <td>0.0</td>\n",
       "      <td>5 years</td>\n",
       "    </tr>\n",
       "    <tr>\n",
       "      <th>4</th>\n",
       "      <td>12000.0</td>\n",
       "      <td>12000.00</td>\n",
       "      <td>11.71%</td>\n",
       "      <td>36 months</td>\n",
       "      <td>credit_card</td>\n",
       "      <td>18.78%</td>\n",
       "      <td>NJ</td>\n",
       "      <td>RENT</td>\n",
       "      <td>3195.00</td>\n",
       "      <td>695-699</td>\n",
       "      <td>11.0</td>\n",
       "      <td>14469.0</td>\n",
       "      <td>0.0</td>\n",
       "      <td>9 years</td>\n",
       "    </tr>\n",
       "    <tr>\n",
       "      <th>...</th>\n",
       "      <td>...</td>\n",
       "      <td>...</td>\n",
       "      <td>...</td>\n",
       "      <td>...</td>\n",
       "      <td>...</td>\n",
       "      <td>...</td>\n",
       "      <td>...</td>\n",
       "      <td>...</td>\n",
       "      <td>...</td>\n",
       "      <td>...</td>\n",
       "      <td>...</td>\n",
       "      <td>...</td>\n",
       "      <td>...</td>\n",
       "      <td>...</td>\n",
       "    </tr>\n",
       "    <tr>\n",
       "      <th>2495</th>\n",
       "      <td>30000.0</td>\n",
       "      <td>29950.00</td>\n",
       "      <td>16.77%</td>\n",
       "      <td>60 months</td>\n",
       "      <td>debt_consolidation</td>\n",
       "      <td>19.23%</td>\n",
       "      <td>NY</td>\n",
       "      <td>MORTGAGE</td>\n",
       "      <td>9250.00</td>\n",
       "      <td>705-709</td>\n",
       "      <td>15.0</td>\n",
       "      <td>45880.0</td>\n",
       "      <td>1.0</td>\n",
       "      <td>8 years</td>\n",
       "    </tr>\n",
       "    <tr>\n",
       "      <th>2496</th>\n",
       "      <td>16000.0</td>\n",
       "      <td>16000.00</td>\n",
       "      <td>14.09%</td>\n",
       "      <td>60 months</td>\n",
       "      <td>home_improvement</td>\n",
       "      <td>21.54%</td>\n",
       "      <td>MD</td>\n",
       "      <td>OWN</td>\n",
       "      <td>8903.25</td>\n",
       "      <td>740-744</td>\n",
       "      <td>18.0</td>\n",
       "      <td>18898.0</td>\n",
       "      <td>1.0</td>\n",
       "      <td>10+ years</td>\n",
       "    </tr>\n",
       "    <tr>\n",
       "      <th>2497</th>\n",
       "      <td>10000.0</td>\n",
       "      <td>10000.00</td>\n",
       "      <td>13.99%</td>\n",
       "      <td>36 months</td>\n",
       "      <td>debt_consolidation</td>\n",
       "      <td>4.89%</td>\n",
       "      <td>PA</td>\n",
       "      <td>MORTGAGE</td>\n",
       "      <td>2166.67</td>\n",
       "      <td>680-684</td>\n",
       "      <td>4.0</td>\n",
       "      <td>4544.0</td>\n",
       "      <td>0.0</td>\n",
       "      <td>10+ years</td>\n",
       "    </tr>\n",
       "    <tr>\n",
       "      <th>2498</th>\n",
       "      <td>6000.0</td>\n",
       "      <td>6000.00</td>\n",
       "      <td>12.42%</td>\n",
       "      <td>36 months</td>\n",
       "      <td>major_purchase</td>\n",
       "      <td>16.66%</td>\n",
       "      <td>NJ</td>\n",
       "      <td>RENT</td>\n",
       "      <td>3500.00</td>\n",
       "      <td>675-679</td>\n",
       "      <td>8.0</td>\n",
       "      <td>7753.0</td>\n",
       "      <td>0.0</td>\n",
       "      <td>5 years</td>\n",
       "    </tr>\n",
       "    <tr>\n",
       "      <th>2499</th>\n",
       "      <td>9000.0</td>\n",
       "      <td>5242.75</td>\n",
       "      <td>13.79%</td>\n",
       "      <td>36 months</td>\n",
       "      <td>debt_consolidation</td>\n",
       "      <td>6.76%</td>\n",
       "      <td>NY</td>\n",
       "      <td>RENT</td>\n",
       "      <td>3875.00</td>\n",
       "      <td>670-674</td>\n",
       "      <td>7.0</td>\n",
       "      <td>7589.0</td>\n",
       "      <td>0.0</td>\n",
       "      <td>10+ years</td>\n",
       "    </tr>\n",
       "  </tbody>\n",
       "</table>\n",
       "<p>2500 rows × 14 columns</p>\n",
       "</div>"
      ],
      "text/plain": [
       "      Amount_Requested  Amount_Funded_By_Investors Interest_Rate Loan_Length  \\\n",
       "0              20000.0                    20000.00         8.90%   36 months   \n",
       "1              19200.0                    19200.00        12.12%   36 months   \n",
       "2              35000.0                    35000.00        21.98%   60 months   \n",
       "3              10000.0                     9975.00         9.99%   36 months   \n",
       "4              12000.0                    12000.00        11.71%   36 months   \n",
       "...                ...                         ...           ...         ...   \n",
       "2495           30000.0                    29950.00        16.77%   60 months   \n",
       "2496           16000.0                    16000.00        14.09%   60 months   \n",
       "2497           10000.0                    10000.00        13.99%   36 months   \n",
       "2498            6000.0                     6000.00        12.42%   36 months   \n",
       "2499            9000.0                     5242.75        13.79%   36 months   \n",
       "\n",
       "            Loan_Purpose Debt_To_Income_Ratio State Home_Ownership  \\\n",
       "0     debt_consolidation               14.90%    SC       MORTGAGE   \n",
       "1     debt_consolidation               28.36%    TX       MORTGAGE   \n",
       "2     debt_consolidation               23.81%    CA       MORTGAGE   \n",
       "3     debt_consolidation               14.30%    KS       MORTGAGE   \n",
       "4            credit_card               18.78%    NJ           RENT   \n",
       "...                  ...                  ...   ...            ...   \n",
       "2495  debt_consolidation               19.23%    NY       MORTGAGE   \n",
       "2496    home_improvement               21.54%    MD            OWN   \n",
       "2497  debt_consolidation                4.89%    PA       MORTGAGE   \n",
       "2498      major_purchase               16.66%    NJ           RENT   \n",
       "2499  debt_consolidation                6.76%    NY           RENT   \n",
       "\n",
       "      Monthly_Income FICO_Range  Open_CREDIT_Lines  Revolving_CREDIT_Balance  \\\n",
       "0            6541.67    735-739               14.0                   14272.0   \n",
       "1            4583.33    715-719               12.0                   11140.0   \n",
       "2           11500.00    690-694               14.0                   21977.0   \n",
       "3            3833.33    695-699               10.0                    9346.0   \n",
       "4            3195.00    695-699               11.0                   14469.0   \n",
       "...              ...        ...                ...                       ...   \n",
       "2495         9250.00    705-709               15.0                   45880.0   \n",
       "2496         8903.25    740-744               18.0                   18898.0   \n",
       "2497         2166.67    680-684                4.0                    4544.0   \n",
       "2498         3500.00    675-679                8.0                    7753.0   \n",
       "2499         3875.00    670-674                7.0                    7589.0   \n",
       "\n",
       "      Inquiries_in_the_Last_6_Months Employment_Length  \n",
       "0                                2.0          < 1 year  \n",
       "1                                1.0           2 years  \n",
       "2                                1.0           2 years  \n",
       "3                                0.0           5 years  \n",
       "4                                0.0           9 years  \n",
       "...                              ...               ...  \n",
       "2495                             1.0           8 years  \n",
       "2496                             1.0         10+ years  \n",
       "2497                             0.0         10+ years  \n",
       "2498                             0.0           5 years  \n",
       "2499                             0.0         10+ years  \n",
       "\n",
       "[2500 rows x 14 columns]"
      ]
     },
     "execution_count": 101,
     "metadata": {},
     "output_type": "execute_result"
    }
   ],
   "source": [
    "loan"
   ]
  },
  {
   "cell_type": "code",
   "execution_count": 102,
   "id": "8d80a5e8",
   "metadata": {},
   "outputs": [],
   "source": [
    "loan.Interest_Rate=loan.Interest_Rate.str.replace('%',' ').apply(pd.to_numeric)"
   ]
  },
  {
   "cell_type": "code",
   "execution_count": 103,
   "id": "ca1452aa",
   "metadata": {},
   "outputs": [],
   "source": [
    "loan.Debt_To_Income_Ratio=loan.Debt_To_Income_Ratio.str.replace('%',' ').apply(pd.to_numeric)"
   ]
  },
  {
   "cell_type": "code",
   "execution_count": 104,
   "id": "95dc1b7c",
   "metadata": {},
   "outputs": [
    {
     "data": {
      "text/plain": [
       "Amount_Requested                  float64\n",
       "Amount_Funded_By_Investors        float64\n",
       "Interest_Rate                     float64\n",
       "Loan_Length                        object\n",
       "Loan_Purpose                       object\n",
       "Debt_To_Income_Ratio              float64\n",
       "State                              object\n",
       "Home_Ownership                     object\n",
       "Monthly_Income                    float64\n",
       "FICO_Range                         object\n",
       "Open_CREDIT_Lines                 float64\n",
       "Revolving_CREDIT_Balance          float64\n",
       "Inquiries_in_the_Last_6_Months    float64\n",
       "Employment_Length                  object\n",
       "dtype: object"
      ]
     },
     "execution_count": 104,
     "metadata": {},
     "output_type": "execute_result"
    }
   ],
   "source": [
    "loan.dtypes"
   ]
  },
  {
   "cell_type": "code",
   "execution_count": 105,
   "id": "493b32a4",
   "metadata": {},
   "outputs": [
    {
     "data": {
      "text/html": [
       "<div>\n",
       "<style scoped>\n",
       "    .dataframe tbody tr th:only-of-type {\n",
       "        vertical-align: middle;\n",
       "    }\n",
       "\n",
       "    .dataframe tbody tr th {\n",
       "        vertical-align: top;\n",
       "    }\n",
       "\n",
       "    .dataframe thead th {\n",
       "        text-align: right;\n",
       "    }\n",
       "</style>\n",
       "<table border=\"1\" class=\"dataframe\">\n",
       "  <thead>\n",
       "    <tr style=\"text-align: right;\">\n",
       "      <th></th>\n",
       "      <th>count</th>\n",
       "      <th>mean</th>\n",
       "      <th>std</th>\n",
       "      <th>min</th>\n",
       "      <th>0%</th>\n",
       "      <th>10%</th>\n",
       "      <th>20%</th>\n",
       "      <th>30%</th>\n",
       "      <th>40%</th>\n",
       "      <th>50%</th>\n",
       "      <th>60%</th>\n",
       "      <th>70%</th>\n",
       "      <th>80%</th>\n",
       "      <th>90%</th>\n",
       "      <th>max</th>\n",
       "    </tr>\n",
       "  </thead>\n",
       "  <tbody>\n",
       "    <tr>\n",
       "      <th>Amount_Requested</th>\n",
       "      <td>2499.0</td>\n",
       "      <td>12405.462185</td>\n",
       "      <td>7802.933666</td>\n",
       "      <td>1000.00</td>\n",
       "      <td>1000.00</td>\n",
       "      <td>4000.000</td>\n",
       "      <td>5440.000</td>\n",
       "      <td>7170.00</td>\n",
       "      <td>9000.000</td>\n",
       "      <td>10000.00</td>\n",
       "      <td>12000.000</td>\n",
       "      <td>15000.00</td>\n",
       "      <td>19200.000</td>\n",
       "      <td>24000.000</td>\n",
       "      <td>35000.00</td>\n",
       "    </tr>\n",
       "    <tr>\n",
       "      <th>Amount_Funded_By_Investors</th>\n",
       "      <td>2499.0</td>\n",
       "      <td>12002.374186</td>\n",
       "      <td>7746.767348</td>\n",
       "      <td>-0.01</td>\n",
       "      <td>-0.01</td>\n",
       "      <td>3600.000</td>\n",
       "      <td>5000.000</td>\n",
       "      <td>6975.00</td>\n",
       "      <td>8799.232</td>\n",
       "      <td>10000.00</td>\n",
       "      <td>12000.000</td>\n",
       "      <td>15000.00</td>\n",
       "      <td>18050.796</td>\n",
       "      <td>23950.000</td>\n",
       "      <td>35000.00</td>\n",
       "    </tr>\n",
       "    <tr>\n",
       "      <th>Interest_Rate</th>\n",
       "      <td>2498.0</td>\n",
       "      <td>13.065388</td>\n",
       "      <td>4.177201</td>\n",
       "      <td>5.42</td>\n",
       "      <td>5.42</td>\n",
       "      <td>7.620</td>\n",
       "      <td>8.900</td>\n",
       "      <td>10.74</td>\n",
       "      <td>12.120</td>\n",
       "      <td>13.11</td>\n",
       "      <td>14.090</td>\n",
       "      <td>15.27</td>\n",
       "      <td>16.490</td>\n",
       "      <td>18.640</td>\n",
       "      <td>24.89</td>\n",
       "    </tr>\n",
       "    <tr>\n",
       "      <th>Debt_To_Income_Ratio</th>\n",
       "      <td>2499.0</td>\n",
       "      <td>15.380420</td>\n",
       "      <td>7.505052</td>\n",
       "      <td>0.00</td>\n",
       "      <td>0.00</td>\n",
       "      <td>5.308</td>\n",
       "      <td>8.516</td>\n",
       "      <td>11.03</td>\n",
       "      <td>13.182</td>\n",
       "      <td>15.32</td>\n",
       "      <td>17.306</td>\n",
       "      <td>19.47</td>\n",
       "      <td>21.880</td>\n",
       "      <td>25.014</td>\n",
       "      <td>34.91</td>\n",
       "    </tr>\n",
       "    <tr>\n",
       "      <th>Monthly_Income</th>\n",
       "      <td>2499.0</td>\n",
       "      <td>5688.931321</td>\n",
       "      <td>3963.118185</td>\n",
       "      <td>588.50</td>\n",
       "      <td>588.50</td>\n",
       "      <td>2600.000</td>\n",
       "      <td>3250.000</td>\n",
       "      <td>3750.00</td>\n",
       "      <td>4333.330</td>\n",
       "      <td>5000.00</td>\n",
       "      <td>5441.484</td>\n",
       "      <td>6250.00</td>\n",
       "      <td>7500.000</td>\n",
       "      <td>9297.330</td>\n",
       "      <td>102750.00</td>\n",
       "    </tr>\n",
       "    <tr>\n",
       "      <th>Open_CREDIT_Lines</th>\n",
       "      <td>2497.0</td>\n",
       "      <td>10.072887</td>\n",
       "      <td>4.507416</td>\n",
       "      <td>2.00</td>\n",
       "      <td>2.00</td>\n",
       "      <td>5.000</td>\n",
       "      <td>6.000</td>\n",
       "      <td>7.00</td>\n",
       "      <td>8.000</td>\n",
       "      <td>9.00</td>\n",
       "      <td>11.000</td>\n",
       "      <td>12.00</td>\n",
       "      <td>14.000</td>\n",
       "      <td>16.000</td>\n",
       "      <td>38.00</td>\n",
       "    </tr>\n",
       "    <tr>\n",
       "      <th>Revolving_CREDIT_Balance</th>\n",
       "      <td>2497.0</td>\n",
       "      <td>15223.184622</td>\n",
       "      <td>18281.015258</td>\n",
       "      <td>0.00</td>\n",
       "      <td>0.00</td>\n",
       "      <td>2298.800</td>\n",
       "      <td>4641.600</td>\n",
       "      <td>6560.80</td>\n",
       "      <td>8575.800</td>\n",
       "      <td>10948.00</td>\n",
       "      <td>13482.000</td>\n",
       "      <td>16651.60</td>\n",
       "      <td>21510.800</td>\n",
       "      <td>30047.000</td>\n",
       "      <td>270800.00</td>\n",
       "    </tr>\n",
       "    <tr>\n",
       "      <th>Inquiries_in_the_Last_6_Months</th>\n",
       "      <td>2497.0</td>\n",
       "      <td>0.906688</td>\n",
       "      <td>1.231149</td>\n",
       "      <td>0.00</td>\n",
       "      <td>0.00</td>\n",
       "      <td>0.000</td>\n",
       "      <td>0.000</td>\n",
       "      <td>0.00</td>\n",
       "      <td>0.000</td>\n",
       "      <td>0.00</td>\n",
       "      <td>1.000</td>\n",
       "      <td>1.00</td>\n",
       "      <td>2.000</td>\n",
       "      <td>3.000</td>\n",
       "      <td>9.00</td>\n",
       "    </tr>\n",
       "  </tbody>\n",
       "</table>\n",
       "</div>"
      ],
      "text/plain": [
       "                                 count          mean           std      min  \\\n",
       "Amount_Requested                2499.0  12405.462185   7802.933666  1000.00   \n",
       "Amount_Funded_By_Investors      2499.0  12002.374186   7746.767348    -0.01   \n",
       "Interest_Rate                   2498.0     13.065388      4.177201     5.42   \n",
       "Debt_To_Income_Ratio            2499.0     15.380420      7.505052     0.00   \n",
       "Monthly_Income                  2499.0   5688.931321   3963.118185   588.50   \n",
       "Open_CREDIT_Lines               2497.0     10.072887      4.507416     2.00   \n",
       "Revolving_CREDIT_Balance        2497.0  15223.184622  18281.015258     0.00   \n",
       "Inquiries_in_the_Last_6_Months  2497.0      0.906688      1.231149     0.00   \n",
       "\n",
       "                                     0%       10%       20%      30%  \\\n",
       "Amount_Requested                1000.00  4000.000  5440.000  7170.00   \n",
       "Amount_Funded_By_Investors        -0.01  3600.000  5000.000  6975.00   \n",
       "Interest_Rate                      5.42     7.620     8.900    10.74   \n",
       "Debt_To_Income_Ratio               0.00     5.308     8.516    11.03   \n",
       "Monthly_Income                   588.50  2600.000  3250.000  3750.00   \n",
       "Open_CREDIT_Lines                  2.00     5.000     6.000     7.00   \n",
       "Revolving_CREDIT_Balance           0.00  2298.800  4641.600  6560.80   \n",
       "Inquiries_in_the_Last_6_Months     0.00     0.000     0.000     0.00   \n",
       "\n",
       "                                     40%       50%        60%       70%  \\\n",
       "Amount_Requested                9000.000  10000.00  12000.000  15000.00   \n",
       "Amount_Funded_By_Investors      8799.232  10000.00  12000.000  15000.00   \n",
       "Interest_Rate                     12.120     13.11     14.090     15.27   \n",
       "Debt_To_Income_Ratio              13.182     15.32     17.306     19.47   \n",
       "Monthly_Income                  4333.330   5000.00   5441.484   6250.00   \n",
       "Open_CREDIT_Lines                  8.000      9.00     11.000     12.00   \n",
       "Revolving_CREDIT_Balance        8575.800  10948.00  13482.000  16651.60   \n",
       "Inquiries_in_the_Last_6_Months     0.000      0.00      1.000      1.00   \n",
       "\n",
       "                                      80%        90%        max  \n",
       "Amount_Requested                19200.000  24000.000   35000.00  \n",
       "Amount_Funded_By_Investors      18050.796  23950.000   35000.00  \n",
       "Interest_Rate                      16.490     18.640      24.89  \n",
       "Debt_To_Income_Ratio               21.880     25.014      34.91  \n",
       "Monthly_Income                   7500.000   9297.330  102750.00  \n",
       "Open_CREDIT_Lines                  14.000     16.000      38.00  \n",
       "Revolving_CREDIT_Balance        21510.800  30047.000  270800.00  \n",
       "Inquiries_in_the_Last_6_Months      2.000      3.000       9.00  "
      ]
     },
     "execution_count": 105,
     "metadata": {},
     "output_type": "execute_result"
    }
   ],
   "source": [
    "loan.describe(percentiles=np.arange(0,1,0.1)).T"
   ]
  },
  {
   "cell_type": "code",
   "execution_count": 106,
   "id": "92ffb92c",
   "metadata": {},
   "outputs": [],
   "source": [
    "loan=loan.drop(columns='Employment_Length')"
   ]
  },
  {
   "cell_type": "code",
   "execution_count": 107,
   "id": "3c5e6d2f",
   "metadata": {},
   "outputs": [
    {
     "data": {
      "text/plain": [
       "Amount_Requested                  1\n",
       "Amount_Funded_By_Investors        1\n",
       "Interest_Rate                     2\n",
       "Loan_Length                       0\n",
       "Loan_Purpose                      0\n",
       "Debt_To_Income_Ratio              1\n",
       "State                             0\n",
       "Home_Ownership                    1\n",
       "Monthly_Income                    1\n",
       "FICO_Range                        2\n",
       "Open_CREDIT_Lines                 3\n",
       "Revolving_CREDIT_Balance          3\n",
       "Inquiries_in_the_Last_6_Months    3\n",
       "dtype: int64"
      ]
     },
     "execution_count": 107,
     "metadata": {},
     "output_type": "execute_result"
    }
   ],
   "source": [
    "loan.isna().sum()"
   ]
  },
  {
   "cell_type": "code",
   "execution_count": 108,
   "id": "cb61585e",
   "metadata": {},
   "outputs": [],
   "source": [
    "loan.dropna(inplace=True)"
   ]
  },
  {
   "cell_type": "code",
   "execution_count": 109,
   "id": "3b4b177a",
   "metadata": {},
   "outputs": [],
   "source": [
    "loan['FICO_Score'] = (\n",
    "    (pd.to_numeric(loan['FICO_Range'].str[0:3], errors='coerce').fillna(0).astype(int)) +\n",
    "    (pd.to_numeric(loan['FICO_Range'].str[4:], errors='coerce').fillna(0).astype(int))\n",
    ") / 2\n"
   ]
  },
  {
   "cell_type": "markdown",
   "id": "a59fb063",
   "metadata": {},
   "source": [
    "# a. Intrest rate is varied for different loan amounts (Less intrest charged for high loan amount\n"
   ]
  },
  {
   "cell_type": "code",
   "execution_count": 110,
   "id": "4341bebc",
   "metadata": {},
   "outputs": [
    {
     "data": {
      "text/plain": [
       "PearsonRResult(statistic=0.3358194064278588, pvalue=1.1396807200527619e-66)"
      ]
     },
     "execution_count": 110,
     "metadata": {},
     "output_type": "execute_result"
    }
   ],
   "source": [
    "stats.pearsonr(loan.Interest_Rate,loan.Amount_Funded_By_Investors)"
   ]
  },
  {
   "cell_type": "markdown",
   "id": "13b6ad95",
   "metadata": {},
   "source": [
    "Hypothesis Testing Interpretation :\n",
    "\n",
    "p-value = 1.1396807200473959e-66 which is less than 0.05 , so we can reject null hypothesis and accept alternate hypothesis. With 95 percent confidence interval, we can say that\n",
    "Interest rate is varied for different loan amounts."
   ]
  },
  {
   "cell_type": "markdown",
   "id": "5d7f43e1",
   "metadata": {},
   "source": [
    "# b. Loan length is directly effecting intrest rate."
   ]
  },
  {
   "cell_type": "code",
   "execution_count": 111,
   "id": "e33b09a2",
   "metadata": {},
   "outputs": [],
   "source": [
    "loan.Loan_Length.value_counts()\n",
    "length_36months=loan.query('Loan_Length==\"36 months\"').Interest_Rate\n",
    "length_60months=loan.query('Loan_Length==\"60 months\"').Interest_Rate\n"
   ]
  },
  {
   "cell_type": "code",
   "execution_count": 112,
   "id": "4464fb22",
   "metadata": {},
   "outputs": [
    {
     "data": {
      "text/plain": [
       "12.128907779495107"
      ]
     },
     "execution_count": 112,
     "metadata": {},
     "output_type": "execute_result"
    }
   ],
   "source": [
    "length_36months.mean()\n"
   ]
  },
  {
   "cell_type": "code",
   "execution_count": 113,
   "id": "d62b81ca",
   "metadata": {},
   "outputs": [
    {
     "data": {
      "text/plain": [
       "16.407463503649634"
      ]
     },
     "execution_count": 113,
     "metadata": {},
     "output_type": "execute_result"
    }
   ],
   "source": [
    "length_60months.mean()"
   ]
  },
  {
   "cell_type": "code",
   "execution_count": 114,
   "id": "7e0191c3",
   "metadata": {},
   "outputs": [
    {
     "data": {
      "text/plain": [
       "Ttest_indResult(statistic=23.37963620691779, pvalue=1.9132344351585912e-109)"
      ]
     },
     "execution_count": 114,
     "metadata": {},
     "output_type": "execute_result"
    }
   ],
   "source": [
    "stats.ttest_ind(length_60months,length_36months)"
   ]
  },
  {
   "cell_type": "markdown",
   "id": "444a38ac",
   "metadata": {},
   "source": [
    "Hypothesis Testing Interpretation :\n",
    "\n",
    "p-value = 1.9132344351585912e-109,which is less than 0.05 , so we can reject null hypothesis and accept alternate hypothesis.\n",
    "With 95 percent confidence interval,we can say that  Loan length is directly effecting interest rate."
   ]
  },
  {
   "cell_type": "markdown",
   "id": "79a9749b",
   "metadata": {},
   "source": [
    "# c. Interest rate varies for different purpose of loans"
   ]
  },
  {
   "cell_type": "code",
   "execution_count": 115,
   "id": "10ea8575",
   "metadata": {},
   "outputs": [],
   "source": [
    "debt_consolidation=loan.query('Loan_Purpose==\"debt_consolidation\"').Interest_Rate\n",
    "credit_card=loan.query('Loan_Purpose==\"credit_card\"').Interest_Rate\n",
    "other=loan.query('Loan_Purpose==\"other\"').Interest_Rate\n",
    "home_improvement=loan.query('Loan_Purpose==\"home_improvement\"').Interest_Rate\n",
    "major_purchase=loan.query('Loan_Purpose==\"major_purchase\"').Interest_Rate\n",
    "small_business=loan.query('Loan_Purpose==\"small_business\"').Interest_Rate            \n",
    "car=loan.query('Loan_Purpose==\"car\"').Interest_Rate\n",
    "wedding=loan.query('Loan_Purpose==\"wedding\"').Interest_Rate\n",
    "medical=loan.query('Loan_Purpose==\"medical\"').Interest_Rate\n",
    "moving=loan.query('Loan_Purpose==\"moving\"').Interest_Rate\n",
    "vacation=loan.query('Loan_Purpose==\"vacation\"').Interest_Rate\n",
    "house=loan.query('Loan_Purpose==\"house\"').Interest_Rate\n",
    "educational=loan.query('Loan_Purpose==\"educational\"').Interest_Rate\n",
    "renewable_energy=loan.query('Loan_Purpose==\"renewable_energy\"').Interest_Rate          "
   ]
  },
  {
   "cell_type": "code",
   "execution_count": 116,
   "id": "f4a2fbad",
   "metadata": {},
   "outputs": [
    {
     "data": {
      "text/plain": [
       "F_onewayResult(statistic=7.487175499510107, pvalue=1.1346364693350775e-14)"
      ]
     },
     "execution_count": 116,
     "metadata": {},
     "output_type": "execute_result"
    }
   ],
   "source": [
    "stats.f_oneway(debt_consolidation,credit_card,other,home_improvement,major_purchase,small_business,car,wedding,medical,moving,vacation,house,educational,renewable_energy)"
   ]
  },
  {
   "cell_type": "markdown",
   "id": "bc42c064",
   "metadata": {},
   "source": [
    "Hypothesis Testing Interpretation :\n",
    "\n",
    "p_value=1.1346364693350775e-14 which is less than 0.05 , so we can reject null hypothesis and accept alternate hypothesis. \n",
    "With 95 percent confidence interval,we can say that Interest rate varies for different purpose of loans."
   ]
  },
  {
   "cell_type": "markdown",
   "id": "aa9af7a3",
   "metadata": {},
   "source": [
    "# d. There is relationship between FICO scores and Home Ownership. It means that, People \n",
    "## with owning home will have high FICO scores."
   ]
  },
  {
   "cell_type": "code",
   "execution_count": 117,
   "id": "3e72bac8",
   "metadata": {},
   "outputs": [],
   "source": [
    "mortage=loan.query('Home_Ownership==\"MORTGAGE\"').FICO_Score\n",
    "rent=loan.query('Home_Ownership==\"RENT\"').FICO_Score\n",
    "own=loan.query('Home_Ownership==\"OWN\"').FICO_Score            \n",
    "other=loan.query('Home_Ownership==\"OTHER\"').FICO_Score"
   ]
  },
  {
   "cell_type": "code",
   "execution_count": 118,
   "id": "32f7282f",
   "metadata": {},
   "outputs": [
    {
     "data": {
      "text/plain": [
       "F_onewayResult(statistic=23.067768208374645, pvalue=1.001016973422469e-14)"
      ]
     },
     "execution_count": 118,
     "metadata": {},
     "output_type": "execute_result"
    }
   ],
   "source": [
    "stats.f_oneway(mortage,rent,own,other)"
   ]
  },
  {
   "cell_type": "markdown",
   "id": "a7ac3971",
   "metadata": {},
   "source": [
    "Hypothesis Testing Interpretation :\n",
    "\n",
    "p_value=1.001016973422469e-14 which is less than 0.05 , so we can reject null hypothesis and accept alternate hypothesis. \n",
    "With 95 percent confidence interval,we can say that There is relationship between FICO scores and Home Ownership."
   ]
  },
  {
   "cell_type": "markdown",
   "id": "ce505d4c",
   "metadata": {},
   "source": [
    "# `Business Problem-2`"
   ]
  },
  {
   "cell_type": "code",
   "execution_count": 119,
   "id": "af7bcacc",
   "metadata": {},
   "outputs": [],
   "source": [
    "## importing csv file"
   ]
  },
  {
   "cell_type": "code",
   "execution_count": 120,
   "id": "41274b26",
   "metadata": {},
   "outputs": [],
   "source": [
    "price_quotes = pd.read_csv(\"D:\\Price_Quotes.csv\")"
   ]
  },
  {
   "cell_type": "code",
   "execution_count": 121,
   "id": "755d6ac2",
   "metadata": {},
   "outputs": [
    {
     "data": {
      "text/html": [
       "<div>\n",
       "<style scoped>\n",
       "    .dataframe tbody tr th:only-of-type {\n",
       "        vertical-align: middle;\n",
       "    }\n",
       "\n",
       "    .dataframe tbody tr th {\n",
       "        vertical-align: top;\n",
       "    }\n",
       "\n",
       "    .dataframe thead th {\n",
       "        text-align: right;\n",
       "    }\n",
       "</style>\n",
       "<table border=\"1\" class=\"dataframe\">\n",
       "  <thead>\n",
       "    <tr style=\"text-align: right;\">\n",
       "      <th></th>\n",
       "      <th>Order_Number</th>\n",
       "      <th>Barry_Price</th>\n",
       "      <th>Mary_Price</th>\n",
       "    </tr>\n",
       "  </thead>\n",
       "  <tbody>\n",
       "    <tr>\n",
       "      <th>0</th>\n",
       "      <td>1</td>\n",
       "      <td>126</td>\n",
       "      <td>114</td>\n",
       "    </tr>\n",
       "    <tr>\n",
       "      <th>1</th>\n",
       "      <td>2</td>\n",
       "      <td>110</td>\n",
       "      <td>118</td>\n",
       "    </tr>\n",
       "    <tr>\n",
       "      <th>2</th>\n",
       "      <td>3</td>\n",
       "      <td>138</td>\n",
       "      <td>114</td>\n",
       "    </tr>\n",
       "    <tr>\n",
       "      <th>3</th>\n",
       "      <td>4</td>\n",
       "      <td>142</td>\n",
       "      <td>111</td>\n",
       "    </tr>\n",
       "    <tr>\n",
       "      <th>4</th>\n",
       "      <td>5</td>\n",
       "      <td>146</td>\n",
       "      <td>129</td>\n",
       "    </tr>\n",
       "  </tbody>\n",
       "</table>\n",
       "</div>"
      ],
      "text/plain": [
       "   Order_Number  Barry_Price  Mary_Price\n",
       "0             1          126         114\n",
       "1             2          110         118\n",
       "2             3          138         114\n",
       "3             4          142         111\n",
       "4             5          146         129"
      ]
     },
     "execution_count": 121,
     "metadata": {},
     "output_type": "execute_result"
    }
   ],
   "source": [
    "price_quotes.head(5)"
   ]
  },
  {
   "cell_type": "code",
   "execution_count": 122,
   "id": "9c6eed0d",
   "metadata": {},
   "outputs": [
    {
     "data": {
      "text/plain": [
       "Order_Number    int64\n",
       "Barry_Price     int64\n",
       "Mary_Price      int64\n",
       "dtype: object"
      ]
     },
     "execution_count": 122,
     "metadata": {},
     "output_type": "execute_result"
    }
   ],
   "source": [
    "price_quotes.dtypes"
   ]
  },
  {
   "cell_type": "code",
   "execution_count": 123,
   "id": "69c1bd2b",
   "metadata": {},
   "outputs": [
    {
     "data": {
      "text/plain": [
       "Order_Number    0\n",
       "Barry_Price     0\n",
       "Mary_Price      0\n",
       "dtype: int64"
      ]
     },
     "execution_count": 123,
     "metadata": {},
     "output_type": "execute_result"
    }
   ],
   "source": [
    "## finding null value\n",
    "price_quotes.isna().sum()"
   ]
  },
  {
   "cell_type": "markdown",
   "id": "c326cbf2",
   "metadata": {},
   "source": [
    "# BUSINESS PROBLEM: We would like to assess if there is any difference in the average price quotes provided by Mary and Barry."
   ]
  },
  {
   "cell_type": "code",
   "execution_count": 124,
   "id": "0845f123",
   "metadata": {},
   "outputs": [
    {
     "data": {
      "text/plain": [
       "124.33333333333333"
      ]
     },
     "execution_count": 124,
     "metadata": {},
     "output_type": "execute_result"
    }
   ],
   "source": [
    "price_quotes.Barry_Price.mean()"
   ]
  },
  {
   "cell_type": "code",
   "execution_count": 125,
   "id": "5e5d6c7a",
   "metadata": {},
   "outputs": [
    {
     "data": {
      "text/plain": [
       "114.75"
      ]
     },
     "execution_count": 125,
     "metadata": {},
     "output_type": "execute_result"
    }
   ],
   "source": [
    "price_quotes.Mary_Price.mean()"
   ]
  },
  {
   "cell_type": "code",
   "execution_count": 126,
   "id": "a64ad5e3",
   "metadata": {},
   "outputs": [
    {
     "data": {
      "text/plain": [
       "Ttest_indResult(statistic=1.4147436739281787, pvalue=0.17114226132118285)"
      ]
     },
     "execution_count": 126,
     "metadata": {},
     "output_type": "execute_result"
    }
   ],
   "source": [
    "stats.ttest_ind(price_quotes.Barry_Price,price_quotes.Mary_Price)"
   ]
  },
  {
   "cell_type": "markdown",
   "id": "27cd454b",
   "metadata": {},
   "source": [
    "Hypothesis Testing Interpretation :\n",
    "\n",
    "pvalue=0.17114226132118285 which is greater than 0.05, we cannot reject null hypothesis.\n",
    "With 95 percent confidence interval,we cannot say that there is difference in the average price quotes provided by Mary and Barry with the help of this data .\n"
   ]
  },
  {
   "cell_type": "markdown",
   "id": "3740832b",
   "metadata": {},
   "source": [
    "# `Business Problem -3`"
   ]
  },
  {
   "cell_type": "code",
   "execution_count": 127,
   "id": "f6554fc2",
   "metadata": {},
   "outputs": [],
   "source": [
    "## importing csv file\n",
    "treatment_facility = pd.read_csv(\"D:\\Treatment_Facility.csv\")\n"
   ]
  },
  {
   "cell_type": "code",
   "execution_count": 128,
   "id": "45614fdb",
   "metadata": {},
   "outputs": [
    {
     "data": {
      "text/html": [
       "<div>\n",
       "<style scoped>\n",
       "    .dataframe tbody tr th:only-of-type {\n",
       "        vertical-align: middle;\n",
       "    }\n",
       "\n",
       "    .dataframe tbody tr th {\n",
       "        vertical-align: top;\n",
       "    }\n",
       "\n",
       "    .dataframe thead th {\n",
       "        text-align: right;\n",
       "    }\n",
       "</style>\n",
       "<table border=\"1\" class=\"dataframe\">\n",
       "  <thead>\n",
       "    <tr style=\"text-align: right;\">\n",
       "      <th></th>\n",
       "      <th>Month</th>\n",
       "      <th>Reengineer</th>\n",
       "      <th>Employee_Turnover</th>\n",
       "      <th>VAR4</th>\n",
       "      <th>VAR5</th>\n",
       "    </tr>\n",
       "  </thead>\n",
       "  <tbody>\n",
       "    <tr>\n",
       "      <th>0</th>\n",
       "      <td>1</td>\n",
       "      <td>Prior</td>\n",
       "      <td>0.0000</td>\n",
       "      <td>24.390244</td>\n",
       "      <td>42.682927</td>\n",
       "    </tr>\n",
       "    <tr>\n",
       "      <th>1</th>\n",
       "      <td>2</td>\n",
       "      <td>Prior</td>\n",
       "      <td>6.0606</td>\n",
       "      <td>19.354839</td>\n",
       "      <td>25.806452</td>\n",
       "    </tr>\n",
       "    <tr>\n",
       "      <th>2</th>\n",
       "      <td>3</td>\n",
       "      <td>Prior</td>\n",
       "      <td>12.1212</td>\n",
       "      <td>35.087719</td>\n",
       "      <td>146.198830</td>\n",
       "    </tr>\n",
       "    <tr>\n",
       "      <th>3</th>\n",
       "      <td>4</td>\n",
       "      <td>Prior</td>\n",
       "      <td>3.3333</td>\n",
       "      <td>18.404908</td>\n",
       "      <td>110.429448</td>\n",
       "    </tr>\n",
       "    <tr>\n",
       "      <th>4</th>\n",
       "      <td>5</td>\n",
       "      <td>Prior</td>\n",
       "      <td>12.9032</td>\n",
       "      <td>17.964072</td>\n",
       "      <td>23.952096</td>\n",
       "    </tr>\n",
       "  </tbody>\n",
       "</table>\n",
       "</div>"
      ],
      "text/plain": [
       "   Month Reengineer  Employee_Turnover       VAR4        VAR5\n",
       "0      1      Prior             0.0000  24.390244   42.682927\n",
       "1      2      Prior             6.0606  19.354839   25.806452\n",
       "2      3      Prior            12.1212  35.087719  146.198830\n",
       "3      4      Prior             3.3333  18.404908  110.429448\n",
       "4      5      Prior            12.9032  17.964072   23.952096"
      ]
     },
     "execution_count": 128,
     "metadata": {},
     "output_type": "execute_result"
    }
   ],
   "source": [
    "treatment_facility.head(5)"
   ]
  },
  {
   "cell_type": "code",
   "execution_count": 129,
   "id": "7a72482c",
   "metadata": {},
   "outputs": [
    {
     "data": {
      "text/plain": [
       "Month                0\n",
       "Reengineer           0\n",
       "Employee_Turnover    0\n",
       "VAR4                 0\n",
       "VAR5                 0\n",
       "dtype: int64"
      ]
     },
     "execution_count": 129,
     "metadata": {},
     "output_type": "execute_result"
    }
   ],
   "source": [
    "treatment_facility.isna().sum()"
   ]
  },
  {
   "cell_type": "code",
   "execution_count": 130,
   "id": "dab183d0",
   "metadata": {},
   "outputs": [
    {
     "data": {
      "text/html": [
       "<div>\n",
       "<style scoped>\n",
       "    .dataframe tbody tr th:only-of-type {\n",
       "        vertical-align: middle;\n",
       "    }\n",
       "\n",
       "    .dataframe tbody tr th {\n",
       "        vertical-align: top;\n",
       "    }\n",
       "\n",
       "    .dataframe thead th {\n",
       "        text-align: right;\n",
       "    }\n",
       "</style>\n",
       "<table border=\"1\" class=\"dataframe\">\n",
       "  <thead>\n",
       "    <tr style=\"text-align: right;\">\n",
       "      <th></th>\n",
       "      <th>Month</th>\n",
       "      <th>Reengineer</th>\n",
       "      <th>Employee_Turnover</th>\n",
       "      <th>TRFF</th>\n",
       "      <th>CI</th>\n",
       "    </tr>\n",
       "  </thead>\n",
       "  <tbody>\n",
       "    <tr>\n",
       "      <th>0</th>\n",
       "      <td>1</td>\n",
       "      <td>Prior</td>\n",
       "      <td>0.0000</td>\n",
       "      <td>24.390244</td>\n",
       "      <td>42.682927</td>\n",
       "    </tr>\n",
       "    <tr>\n",
       "      <th>1</th>\n",
       "      <td>2</td>\n",
       "      <td>Prior</td>\n",
       "      <td>6.0606</td>\n",
       "      <td>19.354839</td>\n",
       "      <td>25.806452</td>\n",
       "    </tr>\n",
       "    <tr>\n",
       "      <th>2</th>\n",
       "      <td>3</td>\n",
       "      <td>Prior</td>\n",
       "      <td>12.1212</td>\n",
       "      <td>35.087719</td>\n",
       "      <td>146.198830</td>\n",
       "    </tr>\n",
       "    <tr>\n",
       "      <th>3</th>\n",
       "      <td>4</td>\n",
       "      <td>Prior</td>\n",
       "      <td>3.3333</td>\n",
       "      <td>18.404908</td>\n",
       "      <td>110.429448</td>\n",
       "    </tr>\n",
       "    <tr>\n",
       "      <th>4</th>\n",
       "      <td>5</td>\n",
       "      <td>Prior</td>\n",
       "      <td>12.9032</td>\n",
       "      <td>17.964072</td>\n",
       "      <td>23.952096</td>\n",
       "    </tr>\n",
       "    <tr>\n",
       "      <th>5</th>\n",
       "      <td>6</td>\n",
       "      <td>Prior</td>\n",
       "      <td>9.6774</td>\n",
       "      <td>41.176471</td>\n",
       "      <td>47.058824</td>\n",
       "    </tr>\n",
       "    <tr>\n",
       "      <th>6</th>\n",
       "      <td>7</td>\n",
       "      <td>Prior</td>\n",
       "      <td>11.7647</td>\n",
       "      <td>13.422819</td>\n",
       "      <td>0.000000</td>\n",
       "    </tr>\n",
       "    <tr>\n",
       "      <th>7</th>\n",
       "      <td>8</td>\n",
       "      <td>Prior</td>\n",
       "      <td>11.4286</td>\n",
       "      <td>31.250000</td>\n",
       "      <td>25.000000</td>\n",
       "    </tr>\n",
       "    <tr>\n",
       "      <th>8</th>\n",
       "      <td>9</td>\n",
       "      <td>Prior</td>\n",
       "      <td>23.0769</td>\n",
       "      <td>17.241379</td>\n",
       "      <td>132.183908</td>\n",
       "    </tr>\n",
       "    <tr>\n",
       "      <th>9</th>\n",
       "      <td>10</td>\n",
       "      <td>Prior</td>\n",
       "      <td>15.0000</td>\n",
       "      <td>16.574586</td>\n",
       "      <td>16.574586</td>\n",
       "    </tr>\n",
       "    <tr>\n",
       "      <th>10</th>\n",
       "      <td>11</td>\n",
       "      <td>Prior</td>\n",
       "      <td>10.0000</td>\n",
       "      <td>5.917160</td>\n",
       "      <td>88.757396</td>\n",
       "    </tr>\n",
       "    <tr>\n",
       "      <th>11</th>\n",
       "      <td>12</td>\n",
       "      <td>Prior</td>\n",
       "      <td>26.0870</td>\n",
       "      <td>21.164021</td>\n",
       "      <td>31.746032</td>\n",
       "    </tr>\n",
       "    <tr>\n",
       "      <th>12</th>\n",
       "      <td>13</td>\n",
       "      <td>Prior</td>\n",
       "      <td>11.1111</td>\n",
       "      <td>5.076142</td>\n",
       "      <td>10.152284</td>\n",
       "    </tr>\n",
       "    <tr>\n",
       "      <th>13</th>\n",
       "      <td>14</td>\n",
       "      <td>Post</td>\n",
       "      <td>26.6667</td>\n",
       "      <td>9.708738</td>\n",
       "      <td>29.126214</td>\n",
       "    </tr>\n",
       "    <tr>\n",
       "      <th>14</th>\n",
       "      <td>15</td>\n",
       "      <td>Post</td>\n",
       "      <td>17.9487</td>\n",
       "      <td>4.201681</td>\n",
       "      <td>21.008403</td>\n",
       "    </tr>\n",
       "    <tr>\n",
       "      <th>15</th>\n",
       "      <td>16</td>\n",
       "      <td>Post</td>\n",
       "      <td>12.8205</td>\n",
       "      <td>13.043478</td>\n",
       "      <td>34.782609</td>\n",
       "    </tr>\n",
       "    <tr>\n",
       "      <th>16</th>\n",
       "      <td>17</td>\n",
       "      <td>Post</td>\n",
       "      <td>15.7895</td>\n",
       "      <td>9.950249</td>\n",
       "      <td>19.900498</td>\n",
       "    </tr>\n",
       "    <tr>\n",
       "      <th>17</th>\n",
       "      <td>18</td>\n",
       "      <td>Post</td>\n",
       "      <td>0.0000</td>\n",
       "      <td>9.950249</td>\n",
       "      <td>9.950249</td>\n",
       "    </tr>\n",
       "    <tr>\n",
       "      <th>18</th>\n",
       "      <td>19</td>\n",
       "      <td>Post</td>\n",
       "      <td>30.7692</td>\n",
       "      <td>8.510638</td>\n",
       "      <td>25.531915</td>\n",
       "    </tr>\n",
       "    <tr>\n",
       "      <th>19</th>\n",
       "      <td>20</td>\n",
       "      <td>Post</td>\n",
       "      <td>26.8293</td>\n",
       "      <td>9.259259</td>\n",
       "      <td>23.148148</td>\n",
       "    </tr>\n",
       "  </tbody>\n",
       "</table>\n",
       "</div>"
      ],
      "text/plain": [
       "    Month Reengineer  Employee_Turnover       TRFF          CI\n",
       "0       1      Prior             0.0000  24.390244   42.682927\n",
       "1       2      Prior             6.0606  19.354839   25.806452\n",
       "2       3      Prior            12.1212  35.087719  146.198830\n",
       "3       4      Prior             3.3333  18.404908  110.429448\n",
       "4       5      Prior            12.9032  17.964072   23.952096\n",
       "5       6      Prior             9.6774  41.176471   47.058824\n",
       "6       7      Prior            11.7647  13.422819    0.000000\n",
       "7       8      Prior            11.4286  31.250000   25.000000\n",
       "8       9      Prior            23.0769  17.241379  132.183908\n",
       "9      10      Prior            15.0000  16.574586   16.574586\n",
       "10     11      Prior            10.0000   5.917160   88.757396\n",
       "11     12      Prior            26.0870  21.164021   31.746032\n",
       "12     13      Prior            11.1111   5.076142   10.152284\n",
       "13     14       Post            26.6667   9.708738   29.126214\n",
       "14     15       Post            17.9487   4.201681   21.008403\n",
       "15     16       Post            12.8205  13.043478   34.782609\n",
       "16     17       Post            15.7895   9.950249   19.900498\n",
       "17     18       Post             0.0000   9.950249    9.950249\n",
       "18     19       Post            30.7692   8.510638   25.531915\n",
       "19     20       Post            26.8293   9.259259   23.148148"
      ]
     },
     "execution_count": 130,
     "metadata": {},
     "output_type": "execute_result"
    }
   ],
   "source": [
    "## renaming columns:\n",
    "treatment_facility.rename(columns={'VAR4':\"TRFF\",'VAR5':\"CI\"},inplace =True)\n",
    "treatment_facility"
   ]
  },
  {
   "cell_type": "markdown",
   "id": "64cdb578",
   "metadata": {},
   "source": [
    "# `BUSINESS PROBLEM: Determine what effect,`"
   ]
  },
  {
   "cell_type": "markdown",
   "id": "1cf3b801",
   "metadata": {},
   "source": [
    "# a.) is there any effect in staff turnover"
   ]
  },
  {
   "cell_type": "code",
   "execution_count": 131,
   "id": "5f3bc740",
   "metadata": {},
   "outputs": [],
   "source": [
    "prior_turnover=treatment_facility.query('Reengineer==\"Prior\"').Employee_Turnover\n",
    "post_turnover=treatment_facility.query('Reengineer==\"Post\"').Employee_Turnover"
   ]
  },
  {
   "cell_type": "code",
   "execution_count": 132,
   "id": "2f685132",
   "metadata": {},
   "outputs": [
    {
     "data": {
      "text/plain": [
       "Ttest_indResult(statistic=-1.770306704753604, pvalue=0.09361109345535304)"
      ]
     },
     "execution_count": 132,
     "metadata": {},
     "output_type": "execute_result"
    }
   ],
   "source": [
    "stats.ttest_ind(prior_turnover,post_turnover)"
   ]
  },
  {
   "cell_type": "markdown",
   "id": "4352b4c5",
   "metadata": {},
   "source": [
    "Hypothesis Testing interpretation :\n",
    "\n",
    "pvalue=0.09361109345535304 which is greater than 0.05, we cannot reject null hypothesis. With 95 percent confidence interval,we cannot say that there is \n",
    "effect in staff turnover with this data.\n"
   ]
  },
  {
   "cell_type": "markdown",
   "id": "f02f4b03",
   "metadata": {},
   "source": [
    "# b.) if the reengineering effort changed the critical incidence rate."
   ]
  },
  {
   "cell_type": "code",
   "execution_count": 133,
   "id": "f567a4c4",
   "metadata": {},
   "outputs": [],
   "source": [
    "prior_CI=treatment_facility.query('Reengineer==\"Prior\"').CI\n",
    "post_CI=treatment_facility.query('Reengineer==\"Post\"').CI"
   ]
  },
  {
   "cell_type": "code",
   "execution_count": 134,
   "id": "3d088706",
   "metadata": {},
   "outputs": [
    {
     "data": {
      "text/plain": [
       "Ttest_indResult(statistic=1.627914425352865, pvalue=0.12091989189884148)"
      ]
     },
     "execution_count": 134,
     "metadata": {},
     "output_type": "execute_result"
    }
   ],
   "source": [
    "stats.ttest_ind(prior_CI,post_CI)"
   ]
  },
  {
   "cell_type": "markdown",
   "id": "6e07b8a9",
   "metadata": {},
   "source": [
    "Hypothesis Testing Interpretation:\n",
    "    \n",
    "pvalue=0.12091989189884149 which is greater than 0.05, we cannot reject null hypothesis.\n",
    "With 95 percent confidence interval,we cannot say that the  reengineering effort \n",
    "changed the critical incidence rate wuth this data."
   ]
  },
  {
   "cell_type": "markdown",
   "id": "538bc383",
   "metadata": {},
   "source": [
    "# `Business Problem -4`"
   ]
  },
  {
   "cell_type": "code",
   "execution_count": 135,
   "id": "92d2921d",
   "metadata": {},
   "outputs": [],
   "source": [
    "## importing csv file\n",
    "priority_assessment = pd.read_csv(\"D:\\Priority_Assessment.csv\")\n"
   ]
  },
  {
   "cell_type": "code",
   "execution_count": 136,
   "id": "782bc51f",
   "metadata": {},
   "outputs": [
    {
     "data": {
      "text/html": [
       "<div>\n",
       "<style scoped>\n",
       "    .dataframe tbody tr th:only-of-type {\n",
       "        vertical-align: middle;\n",
       "    }\n",
       "\n",
       "    .dataframe tbody tr th {\n",
       "        vertical-align: top;\n",
       "    }\n",
       "\n",
       "    .dataframe thead th {\n",
       "        text-align: right;\n",
       "    }\n",
       "</style>\n",
       "<table border=\"1\" class=\"dataframe\">\n",
       "  <thead>\n",
       "    <tr style=\"text-align: right;\">\n",
       "      <th></th>\n",
       "      <th>Days</th>\n",
       "      <th>Priority</th>\n",
       "    </tr>\n",
       "  </thead>\n",
       "  <tbody>\n",
       "    <tr>\n",
       "      <th>0</th>\n",
       "      <td>3.3</td>\n",
       "      <td>High</td>\n",
       "    </tr>\n",
       "    <tr>\n",
       "      <th>1</th>\n",
       "      <td>7.9</td>\n",
       "      <td>Medium</td>\n",
       "    </tr>\n",
       "    <tr>\n",
       "      <th>2</th>\n",
       "      <td>0.3</td>\n",
       "      <td>High</td>\n",
       "    </tr>\n",
       "    <tr>\n",
       "      <th>3</th>\n",
       "      <td>0.7</td>\n",
       "      <td>Medium</td>\n",
       "    </tr>\n",
       "    <tr>\n",
       "      <th>4</th>\n",
       "      <td>8.6</td>\n",
       "      <td>Medium</td>\n",
       "    </tr>\n",
       "  </tbody>\n",
       "</table>\n",
       "</div>"
      ],
      "text/plain": [
       "   Days Priority\n",
       "0   3.3     High\n",
       "1   7.9   Medium\n",
       "2   0.3     High\n",
       "3   0.7   Medium\n",
       "4   8.6   Medium"
      ]
     },
     "execution_count": 136,
     "metadata": {},
     "output_type": "execute_result"
    }
   ],
   "source": [
    "priority_assessment.head(5)"
   ]
  },
  {
   "cell_type": "code",
   "execution_count": 137,
   "id": "37f33580",
   "metadata": {},
   "outputs": [
    {
     "name": "stdout",
     "output_type": "stream",
     "text": [
      "<class 'pandas.core.frame.DataFrame'>\n",
      "RangeIndex: 642 entries, 0 to 641\n",
      "Data columns (total 2 columns):\n",
      " #   Column    Non-Null Count  Dtype  \n",
      "---  ------    --------------  -----  \n",
      " 0   Days      642 non-null    float64\n",
      " 1   Priority  642 non-null    object \n",
      "dtypes: float64(1), object(1)\n",
      "memory usage: 10.2+ KB\n"
     ]
    }
   ],
   "source": [
    "priority_assessment.info()"
   ]
  },
  {
   "cell_type": "code",
   "execution_count": 138,
   "id": "888f8204",
   "metadata": {},
   "outputs": [
    {
     "data": {
      "text/plain": [
       "Days        0\n",
       "Priority    0\n",
       "dtype: int64"
      ]
     },
     "execution_count": 138,
     "metadata": {},
     "output_type": "execute_result"
    }
   ],
   "source": [
    "priority_assessment.isna().sum()"
   ]
  },
  {
   "cell_type": "markdown",
   "id": "ce0d0cd5",
   "metadata": {},
   "source": [
    "# If the system is working, then high priority jobs, on average, should be completed more quickly than medium priority jobs, and medium priority jobs should be completed more quickly than low priority jobs"
   ]
  },
  {
   "cell_type": "code",
   "execution_count": 139,
   "id": "ca9693f4",
   "metadata": {},
   "outputs": [],
   "source": [
    "High=priority_assessment.query('Priority==\"High\"').Days\n",
    "Medium=priority_assessment.query('Priority==\"Medium\"').Days\n",
    "Low=priority_assessment.query('Priority==\"Low\"').Days"
   ]
  },
  {
   "cell_type": "code",
   "execution_count": 140,
   "id": "826ec557",
   "metadata": {},
   "outputs": [
    {
     "data": {
      "text/plain": [
       "F_onewayResult(statistic=1.812311010076072, pvalue=0.16411459461716182)"
      ]
     },
     "execution_count": 140,
     "metadata": {},
     "output_type": "execute_result"
    }
   ],
   "source": [
    "stats.f_oneway(High,Medium,Low)"
   ]
  },
  {
   "cell_type": "markdown",
   "id": "1a23e631",
   "metadata": {},
   "source": [
    "Hypothesis Testing Interpretation:\n",
    "\n",
    "pvalue=0.16411459461716182 which is greater than 0.05, we cannot reject null hypothesis.\n",
    "With 95 percent confidence interval,we cannot say that that  high priority jobs are completed more quickly than medium priority jobs, and medium priority jobs are  completed more quickly than\n",
    "low priority jobs with the help of this data."
   ]
  },
  {
   "cell_type": "markdown",
   "id": "4290e8a3",
   "metadata": {},
   "source": [
    "#    `Business Problem-5`"
   ]
  },
  {
   "cell_type": "code",
   "execution_count": 141,
   "id": "9c0717c0",
   "metadata": {},
   "outputs": [],
   "source": [
    "## importing csv file\n",
    "films = pd.read_csv(\"D:\\Films.csv\")\n"
   ]
  },
  {
   "cell_type": "code",
   "execution_count": 142,
   "id": "9635e006",
   "metadata": {},
   "outputs": [
    {
     "data": {
      "text/html": [
       "<div>\n",
       "<style scoped>\n",
       "    .dataframe tbody tr th:only-of-type {\n",
       "        vertical-align: middle;\n",
       "    }\n",
       "\n",
       "    .dataframe tbody tr th {\n",
       "        vertical-align: top;\n",
       "    }\n",
       "\n",
       "    .dataframe thead th {\n",
       "        text-align: right;\n",
       "    }\n",
       "</style>\n",
       "<table border=\"1\" class=\"dataframe\">\n",
       "  <thead>\n",
       "    <tr style=\"text-align: right;\">\n",
       "      <th></th>\n",
       "      <th>_rowstate_</th>\n",
       "      <th>Movie</th>\n",
       "      <th>Gender</th>\n",
       "      <th>Marital_Status</th>\n",
       "      <th>Sinage</th>\n",
       "      <th>Parking</th>\n",
       "      <th>Clean</th>\n",
       "      <th>Overall</th>\n",
       "      <th>Age</th>\n",
       "      <th>Income</th>\n",
       "      <th>Hear_About</th>\n",
       "    </tr>\n",
       "  </thead>\n",
       "  <tbody>\n",
       "    <tr>\n",
       "      <th>0</th>\n",
       "      <td>0</td>\n",
       "      <td>Ferris Buellers Day Off</td>\n",
       "      <td>Female</td>\n",
       "      <td>Married</td>\n",
       "      <td>2.0</td>\n",
       "      <td>2.0</td>\n",
       "      <td>2.0</td>\n",
       "      <td>2.0</td>\n",
       "      <td>3.0</td>\n",
       "      <td>1.0</td>\n",
       "      <td>5</td>\n",
       "    </tr>\n",
       "    <tr>\n",
       "      <th>1</th>\n",
       "      <td>0</td>\n",
       "      <td>Ferris Buellers Day Off</td>\n",
       "      <td>Female</td>\n",
       "      <td>Single</td>\n",
       "      <td>1.0</td>\n",
       "      <td>1.0</td>\n",
       "      <td>1.0</td>\n",
       "      <td>1.0</td>\n",
       "      <td>2.0</td>\n",
       "      <td>1.0</td>\n",
       "      <td>5</td>\n",
       "    </tr>\n",
       "    <tr>\n",
       "      <th>2</th>\n",
       "      <td>0</td>\n",
       "      <td>Ferris Buellers Day Off</td>\n",
       "      <td>Male</td>\n",
       "      <td>Married</td>\n",
       "      <td>2.0</td>\n",
       "      <td>4.0</td>\n",
       "      <td>3.0</td>\n",
       "      <td>2.0</td>\n",
       "      <td>4.0</td>\n",
       "      <td>1.0</td>\n",
       "      <td>5</td>\n",
       "    </tr>\n",
       "    <tr>\n",
       "      <th>3</th>\n",
       "      <td>0</td>\n",
       "      <td>Ferris Buellers Day Off</td>\n",
       "      <td>Female</td>\n",
       "      <td>Married</td>\n",
       "      <td>1.0</td>\n",
       "      <td>3.0</td>\n",
       "      <td>2.0</td>\n",
       "      <td>2.0</td>\n",
       "      <td>4.0</td>\n",
       "      <td>1.0</td>\n",
       "      <td>5</td>\n",
       "    </tr>\n",
       "    <tr>\n",
       "      <th>4</th>\n",
       "      <td>0</td>\n",
       "      <td>Ferris Buellers Day Off</td>\n",
       "      <td>Female</td>\n",
       "      <td>Married</td>\n",
       "      <td>1.0</td>\n",
       "      <td>1.0</td>\n",
       "      <td>1.0</td>\n",
       "      <td>1.0</td>\n",
       "      <td>3.0</td>\n",
       "      <td>3.0</td>\n",
       "      <td>1</td>\n",
       "    </tr>\n",
       "  </tbody>\n",
       "</table>\n",
       "</div>"
      ],
      "text/plain": [
       "   _rowstate_                    Movie  Gender Marital_Status  Sinage  \\\n",
       "0           0  Ferris Buellers Day Off  Female        Married     2.0   \n",
       "1           0  Ferris Buellers Day Off  Female         Single     1.0   \n",
       "2           0  Ferris Buellers Day Off    Male        Married     2.0   \n",
       "3           0  Ferris Buellers Day Off  Female        Married     1.0   \n",
       "4           0  Ferris Buellers Day Off  Female        Married     1.0   \n",
       "\n",
       "   Parking  Clean  Overall  Age  Income Hear_About  \n",
       "0      2.0    2.0      2.0  3.0     1.0          5  \n",
       "1      1.0    1.0      1.0  2.0     1.0          5  \n",
       "2      4.0    3.0      2.0  4.0     1.0          5  \n",
       "3      3.0    2.0      2.0  4.0     1.0          5  \n",
       "4      1.0    1.0      1.0  3.0     3.0          1  "
      ]
     },
     "execution_count": 142,
     "metadata": {},
     "output_type": "execute_result"
    }
   ],
   "source": [
    "films.head(5)"
   ]
  },
  {
   "cell_type": "code",
   "execution_count": 143,
   "id": "42bf9e1c",
   "metadata": {},
   "outputs": [
    {
     "name": "stdout",
     "output_type": "stream",
     "text": [
      "<class 'pandas.core.frame.DataFrame'>\n",
      "RangeIndex: 330 entries, 0 to 329\n",
      "Data columns (total 11 columns):\n",
      " #   Column          Non-Null Count  Dtype  \n",
      "---  ------          --------------  -----  \n",
      " 0   _rowstate_      330 non-null    int64  \n",
      " 1   Movie           330 non-null    object \n",
      " 2   Gender          330 non-null    object \n",
      " 3   Marital_Status  328 non-null    object \n",
      " 4   Sinage          328 non-null    float64\n",
      " 5   Parking         328 non-null    float64\n",
      " 6   Clean           327 non-null    float64\n",
      " 7   Overall         328 non-null    float64\n",
      " 8   Age             328 non-null    float64\n",
      " 9   Income          314 non-null    float64\n",
      " 10  Hear_About      323 non-null    object \n",
      "dtypes: float64(6), int64(1), object(4)\n",
      "memory usage: 28.5+ KB\n"
     ]
    }
   ],
   "source": [
    "films.info()"
   ]
  },
  {
   "cell_type": "code",
   "execution_count": 144,
   "id": "8e7306bf",
   "metadata": {},
   "outputs": [
    {
     "data": {
      "text/plain": [
       "_rowstate_         0\n",
       "Movie              0\n",
       "Gender             0\n",
       "Marital_Status     2\n",
       "Sinage             2\n",
       "Parking            2\n",
       "Clean              3\n",
       "Overall            2\n",
       "Age                2\n",
       "Income            16\n",
       "Hear_About         7\n",
       "dtype: int64"
      ]
     },
     "execution_count": 144,
     "metadata": {},
     "output_type": "execute_result"
    }
   ],
   "source": [
    "films.isna().sum()"
   ]
  },
  {
   "cell_type": "markdown",
   "id": "6fd32989",
   "metadata": {},
   "source": [
    "# Data Prepration"
   ]
  },
  {
   "cell_type": "code",
   "execution_count": 145,
   "id": "df6b2e12",
   "metadata": {},
   "outputs": [
    {
     "data": {
      "text/plain": [
       "2         194\n",
       "1         104\n",
       "Female     19\n",
       "Male       13\n",
       "Name: Gender, dtype: int64"
      ]
     },
     "execution_count": 145,
     "metadata": {},
     "output_type": "execute_result"
    }
   ],
   "source": [
    "films.Gender.value_counts()"
   ]
  },
  {
   "cell_type": "code",
   "execution_count": 146,
   "id": "dd61aea4",
   "metadata": {},
   "outputs": [],
   "source": [
    "films.Gender=np.where((films.Gender == 'Male') | (films.Gender == '1'),\"Male\",\"Female\")"
   ]
  },
  {
   "cell_type": "code",
   "execution_count": 147,
   "id": "0c2ef576",
   "metadata": {},
   "outputs": [
    {
     "data": {
      "text/plain": [
       "2          208\n",
       "1           88\n",
       "Single      18\n",
       "Married     12\n",
       "Slngle       2\n",
       "Name: Marital_Status, dtype: int64"
      ]
     },
     "execution_count": 147,
     "metadata": {},
     "output_type": "execute_result"
    }
   ],
   "source": [
    "films.Marital_Status.value_counts()"
   ]
  },
  {
   "cell_type": "code",
   "execution_count": 148,
   "id": "a0817c88",
   "metadata": {},
   "outputs": [],
   "source": [
    "films.Marital_Status=np.where((films.Marital_Status=='1') | (films.Marital_Status=='Married') ,\"Married\",\"Single\" )"
   ]
  },
  {
   "cell_type": "code",
   "execution_count": 149,
   "id": "f2e9e91d",
   "metadata": {},
   "outputs": [
    {
     "data": {
      "text/html": [
       "<div>\n",
       "<style scoped>\n",
       "    .dataframe tbody tr th:only-of-type {\n",
       "        vertical-align: middle;\n",
       "    }\n",
       "\n",
       "    .dataframe tbody tr th {\n",
       "        vertical-align: top;\n",
       "    }\n",
       "\n",
       "    .dataframe thead th {\n",
       "        text-align: right;\n",
       "    }\n",
       "</style>\n",
       "<table border=\"1\" class=\"dataframe\">\n",
       "  <thead>\n",
       "    <tr style=\"text-align: right;\">\n",
       "      <th></th>\n",
       "      <th>count</th>\n",
       "      <th>mean</th>\n",
       "      <th>std</th>\n",
       "      <th>min</th>\n",
       "      <th>25%</th>\n",
       "      <th>50%</th>\n",
       "      <th>75%</th>\n",
       "      <th>max</th>\n",
       "    </tr>\n",
       "  </thead>\n",
       "  <tbody>\n",
       "    <tr>\n",
       "      <th>_rowstate_</th>\n",
       "      <td>330.0</td>\n",
       "      <td>0.000000</td>\n",
       "      <td>0.000000</td>\n",
       "      <td>0.0</td>\n",
       "      <td>0.0</td>\n",
       "      <td>0.0</td>\n",
       "      <td>0.0</td>\n",
       "      <td>0.0</td>\n",
       "    </tr>\n",
       "    <tr>\n",
       "      <th>Sinage</th>\n",
       "      <td>328.0</td>\n",
       "      <td>1.884146</td>\n",
       "      <td>0.830603</td>\n",
       "      <td>1.0</td>\n",
       "      <td>1.0</td>\n",
       "      <td>2.0</td>\n",
       "      <td>2.0</td>\n",
       "      <td>5.0</td>\n",
       "    </tr>\n",
       "    <tr>\n",
       "      <th>Parking</th>\n",
       "      <td>328.0</td>\n",
       "      <td>1.756098</td>\n",
       "      <td>0.798484</td>\n",
       "      <td>1.0</td>\n",
       "      <td>1.0</td>\n",
       "      <td>2.0</td>\n",
       "      <td>2.0</td>\n",
       "      <td>5.0</td>\n",
       "    </tr>\n",
       "    <tr>\n",
       "      <th>Clean</th>\n",
       "      <td>327.0</td>\n",
       "      <td>1.681957</td>\n",
       "      <td>0.728313</td>\n",
       "      <td>1.0</td>\n",
       "      <td>1.0</td>\n",
       "      <td>2.0</td>\n",
       "      <td>2.0</td>\n",
       "      <td>5.0</td>\n",
       "    </tr>\n",
       "    <tr>\n",
       "      <th>Overall</th>\n",
       "      <td>328.0</td>\n",
       "      <td>1.618902</td>\n",
       "      <td>0.689286</td>\n",
       "      <td>1.0</td>\n",
       "      <td>1.0</td>\n",
       "      <td>2.0</td>\n",
       "      <td>2.0</td>\n",
       "      <td>5.0</td>\n",
       "    </tr>\n",
       "    <tr>\n",
       "      <th>Age</th>\n",
       "      <td>328.0</td>\n",
       "      <td>2.338415</td>\n",
       "      <td>0.666902</td>\n",
       "      <td>1.0</td>\n",
       "      <td>2.0</td>\n",
       "      <td>2.0</td>\n",
       "      <td>3.0</td>\n",
       "      <td>4.0</td>\n",
       "    </tr>\n",
       "    <tr>\n",
       "      <th>Income</th>\n",
       "      <td>314.0</td>\n",
       "      <td>1.834395</td>\n",
       "      <td>0.844808</td>\n",
       "      <td>1.0</td>\n",
       "      <td>1.0</td>\n",
       "      <td>2.0</td>\n",
       "      <td>3.0</td>\n",
       "      <td>3.0</td>\n",
       "    </tr>\n",
       "  </tbody>\n",
       "</table>\n",
       "</div>"
      ],
      "text/plain": [
       "            count      mean       std  min  25%  50%  75%  max\n",
       "_rowstate_  330.0  0.000000  0.000000  0.0  0.0  0.0  0.0  0.0\n",
       "Sinage      328.0  1.884146  0.830603  1.0  1.0  2.0  2.0  5.0\n",
       "Parking     328.0  1.756098  0.798484  1.0  1.0  2.0  2.0  5.0\n",
       "Clean       327.0  1.681957  0.728313  1.0  1.0  2.0  2.0  5.0\n",
       "Overall     328.0  1.618902  0.689286  1.0  1.0  2.0  2.0  5.0\n",
       "Age         328.0  2.338415  0.666902  1.0  2.0  2.0  3.0  4.0\n",
       "Income      314.0  1.834395  0.844808  1.0  1.0  2.0  3.0  3.0"
      ]
     },
     "execution_count": 149,
     "metadata": {},
     "output_type": "execute_result"
    }
   ],
   "source": [
    "films.describe().T"
   ]
  },
  {
   "cell_type": "code",
   "execution_count": 150,
   "id": "aa7e0ddb",
   "metadata": {},
   "outputs": [],
   "source": [
    "for i in films.columns:\n",
    "    films[i]=films[i].fillna(films[i].mode()[0])  "
   ]
  },
  {
   "cell_type": "code",
   "execution_count": 151,
   "id": "2018818b",
   "metadata": {},
   "outputs": [
    {
     "data": {
      "text/plain": [
       "_rowstate_        0\n",
       "Movie             0\n",
       "Gender            0\n",
       "Marital_Status    0\n",
       "Sinage            0\n",
       "Parking           0\n",
       "Clean             0\n",
       "Overall           0\n",
       "Age               0\n",
       "Income            0\n",
       "Hear_About        0\n",
       "dtype: int64"
      ]
     },
     "execution_count": 151,
     "metadata": {},
     "output_type": "execute_result"
    }
   ],
   "source": [
    "films.isna().sum()"
   ]
  },
  {
   "cell_type": "markdown",
   "id": "90ff1a9c",
   "metadata": {},
   "source": [
    "# a.) What is the overall level of customer satisfaction?"
   ]
  },
  {
   "cell_type": "code",
   "execution_count": 152,
   "id": "9b5cc28d",
   "metadata": {},
   "outputs": [],
   "source": [
    "mean=films.Overall.mean()"
   ]
  },
  {
   "cell_type": "code",
   "execution_count": 153,
   "id": "34af4534",
   "metadata": {},
   "outputs": [],
   "source": [
    "std=films.Overall.std()"
   ]
  },
  {
   "cell_type": "code",
   "execution_count": 154,
   "id": "94090d5a",
   "metadata": {},
   "outputs": [],
   "source": [
    "SE=std/(np.sqrt(films.shape[0]))"
   ]
  },
  {
   "cell_type": "markdown",
   "id": "3e81c3f0",
   "metadata": {},
   "source": [
    "with 95% confidence levels,the overall level of customer \n",
    "satisfaction will be in the range (1.5469994901816928,1.6954247522425494)"
   ]
  },
  {
   "cell_type": "markdown",
   "id": "f426f0f3",
   "metadata": {},
   "source": [
    "# b.) What factors are linked to satisfaction?"
   ]
  },
  {
   "cell_type": "code",
   "execution_count": 155,
   "id": "7ef4804c",
   "metadata": {},
   "outputs": [],
   "source": [
    "# factor 1 = Movie"
   ]
  },
  {
   "cell_type": "code",
   "execution_count": 156,
   "id": "6d42987e",
   "metadata": {},
   "outputs": [
    {
     "data": {
      "text/plain": [
       "Willy Wonka                161\n",
       "Ferris Buellers Day Off    137\n",
       "Old School                  32\n",
       "Name: Movie, dtype: int64"
      ]
     },
     "execution_count": 156,
     "metadata": {},
     "output_type": "execute_result"
    }
   ],
   "source": [
    "films.Movie.value_counts()"
   ]
  },
  {
   "cell_type": "code",
   "execution_count": 157,
   "id": "f13be1cd",
   "metadata": {},
   "outputs": [],
   "source": [
    "Willy_Wonka=films.query('Movie==\"Willy Wonka\"').Overall\n",
    "Ferris_Buellers_Day_Off=films.query('Movie==\"Ferris Buellers Day Off\"').Overall\n",
    "Old_School=films.query('Movie==\"Old School\"').Overall"
   ]
  },
  {
   "cell_type": "code",
   "execution_count": 158,
   "id": "cf4bc5a2",
   "metadata": {},
   "outputs": [
    {
     "data": {
      "text/plain": [
       "F_onewayResult(statistic=1.335243752886233, pvalue=0.2645245972839759)"
      ]
     },
     "execution_count": 158,
     "metadata": {},
     "output_type": "execute_result"
    }
   ],
   "source": [
    "stats.f_oneway(Willy_Wonka,Ferris_Buellers_Day_Off,Old_School)"
   ]
  },
  {
   "cell_type": "markdown",
   "id": "b4649fb5",
   "metadata": {},
   "source": [
    "pvalue=0.2645245972839759 which is greater than 0.05, we cannot reject null hypothesis .\n",
    "With 95 percent confidence interval,we cannot say that Movie is a factor linked to satisfaction with this data."
   ]
  },
  {
   "cell_type": "code",
   "execution_count": 159,
   "id": "ecaa6e77",
   "metadata": {},
   "outputs": [],
   "source": [
    "# factor 2 = Gender"
   ]
  },
  {
   "cell_type": "code",
   "execution_count": 160,
   "id": "f0fe8a34",
   "metadata": {},
   "outputs": [],
   "source": [
    "Male=films.query('Gender==\"Male\"').Overall\n",
    "Female=films.query('Gender==\"Female\"').Overall"
   ]
  },
  {
   "cell_type": "code",
   "execution_count": 161,
   "id": "c35ef0da",
   "metadata": {},
   "outputs": [
    {
     "data": {
      "text/plain": [
       "Ttest_indResult(statistic=1.393621669674226, pvalue=0.16437541932112798)"
      ]
     },
     "execution_count": 161,
     "metadata": {},
     "output_type": "execute_result"
    }
   ],
   "source": [
    "stats.ttest_ind(Male,Female)"
   ]
  },
  {
   "cell_type": "markdown",
   "id": "102d161f",
   "metadata": {},
   "source": [
    "pvalue=0.1643754193211279 which is greater than 0.05,so, we cannot reject null hypothesis .\n",
    "With 95 percent confidence interval,we cannot say that Gender is a factor linked to satisfaction with this data."
   ]
  },
  {
   "cell_type": "code",
   "execution_count": 162,
   "id": "7aa81c81",
   "metadata": {},
   "outputs": [],
   "source": [
    "# factor 3 = Marital_Status"
   ]
  },
  {
   "cell_type": "code",
   "execution_count": 163,
   "id": "7be1f43c",
   "metadata": {},
   "outputs": [],
   "source": [
    "Married=films.query('Marital_Status==\"Married\"').Overall\n",
    "Single=films.query('Marital_Status==\"Single\"').Overall"
   ]
  },
  {
   "cell_type": "code",
   "execution_count": 164,
   "id": "061d38f3",
   "metadata": {},
   "outputs": [
    {
     "data": {
      "text/plain": [
       "Ttest_indResult(statistic=0.7171640309514444, pvalue=0.47378328196635067)"
      ]
     },
     "execution_count": 164,
     "metadata": {},
     "output_type": "execute_result"
    }
   ],
   "source": [
    "stats.ttest_ind(Single,Married)"
   ]
  },
  {
   "cell_type": "markdown",
   "id": "ad1c5902",
   "metadata": {},
   "source": [
    "pvalue=0.47378328196635067,which is greater than 0.05,so, we cannot reject null hypothesis .\n",
    "With 95 percent confidence interval,we cannot say that Marital_status is a factor linked to satisfaction with this data."
   ]
  },
  {
   "cell_type": "code",
   "execution_count": 165,
   "id": "d3dbf820",
   "metadata": {},
   "outputs": [],
   "source": [
    "# factor 4 = Sinage"
   ]
  },
  {
   "cell_type": "code",
   "execution_count": 166,
   "id": "426999fc",
   "metadata": {},
   "outputs": [
    {
     "data": {
      "text/plain": [
       "2.0    158\n",
       "1.0    113\n",
       "3.0     48\n",
       "4.0      6\n",
       "5.0      5\n",
       "Name: Sinage, dtype: int64"
      ]
     },
     "execution_count": 166,
     "metadata": {},
     "output_type": "execute_result"
    }
   ],
   "source": [
    "films.Sinage.value_counts()"
   ]
  },
  {
   "cell_type": "code",
   "execution_count": 167,
   "id": "3f2beae6",
   "metadata": {},
   "outputs": [
    {
     "data": {
      "text/plain": [
       "PearsonRResult(statistic=0.3821028042239567, pvalue=6.501065434766993e-13)"
      ]
     },
     "execution_count": 167,
     "metadata": {},
     "output_type": "execute_result"
    }
   ],
   "source": [
    "stats.pearsonr(films.Sinage,films.Overall)"
   ]
  },
  {
   "cell_type": "markdown",
   "id": "92ce407e",
   "metadata": {},
   "source": [
    "pvalue=6.501065434766499e-13,,which is less than 0.05,we can reject null hypothesis .\n",
    "With 95 percent confidence interval,we can say that Sinage is a factor linked to satisfaction with this data."
   ]
  },
  {
   "cell_type": "code",
   "execution_count": 168,
   "id": "82d2434c",
   "metadata": {},
   "outputs": [],
   "source": [
    "# factor 5 = Parking"
   ]
  },
  {
   "cell_type": "code",
   "execution_count": 169,
   "id": "ebc01788",
   "metadata": {},
   "outputs": [
    {
     "data": {
      "text/plain": [
       "PearsonRResult(statistic=0.5144289487855271, pvalue=1.0840276087790176e-23)"
      ]
     },
     "execution_count": 169,
     "metadata": {},
     "output_type": "execute_result"
    }
   ],
   "source": [
    "stats.pearsonr(films.Parking,films.Overall)"
   ]
  },
  {
   "cell_type": "markdown",
   "id": "7af0460e",
   "metadata": {},
   "source": [
    "pvalue=1.0840276087789895e-23 ,,which is less than 0.05,so, we can reject null hypothesis .\n",
    "With 95 percent confidence interval,we can say that Parking is a factor linked to satisfaction with this data."
   ]
  },
  {
   "cell_type": "code",
   "execution_count": 170,
   "id": "e21dddff",
   "metadata": {},
   "outputs": [],
   "source": [
    "# factor 6 = Clean"
   ]
  },
  {
   "cell_type": "code",
   "execution_count": 171,
   "id": "54856475",
   "metadata": {},
   "outputs": [
    {
     "data": {
      "text/plain": [
       "PearsonRResult(statistic=0.35082227890709217, pvalue=5.4375500074401733e-11)"
      ]
     },
     "execution_count": 171,
     "metadata": {},
     "output_type": "execute_result"
    }
   ],
   "source": [
    "stats.pearsonr(films.Clean,films.Overall)"
   ]
  },
  {
   "cell_type": "markdown",
   "id": "d153e2a4",
   "metadata": {},
   "source": [
    "pvalue=5.437550007439627e-11 ,,which is less than 0.05,so, we can reject null hypothesis .\n",
    "With 95 percent confidence interval,we can say that Clean is a factor linked to satisfaction with this data."
   ]
  },
  {
   "cell_type": "code",
   "execution_count": 172,
   "id": "f4e2143a",
   "metadata": {},
   "outputs": [],
   "source": [
    "# factor 7 = Age"
   ]
  },
  {
   "cell_type": "code",
   "execution_count": 173,
   "id": "2a810391",
   "metadata": {},
   "outputs": [
    {
     "data": {
      "text/plain": [
       "2.0    177\n",
       "3.0    117\n",
       "1.0     26\n",
       "4.0     10\n",
       "Name: Age, dtype: int64"
      ]
     },
     "execution_count": 173,
     "metadata": {},
     "output_type": "execute_result"
    }
   ],
   "source": [
    "films.Age.value_counts()"
   ]
  },
  {
   "cell_type": "code",
   "execution_count": 174,
   "id": "fc3863a0",
   "metadata": {},
   "outputs": [],
   "source": [
    "one=films.query('Age==1').Overall\n",
    "two=films.query('Age==2').Overall\n",
    "three=films.query('Age==3').Overall\n",
    "four=films.query('Age==4').Overall"
   ]
  },
  {
   "cell_type": "code",
   "execution_count": 175,
   "id": "9605c527",
   "metadata": {},
   "outputs": [
    {
     "data": {
      "text/plain": [
       "1.5384615384615385"
      ]
     },
     "execution_count": 175,
     "metadata": {},
     "output_type": "execute_result"
    }
   ],
   "source": [
    "one.mean()"
   ]
  },
  {
   "cell_type": "code",
   "execution_count": 176,
   "id": "3bd10f80",
   "metadata": {},
   "outputs": [
    {
     "data": {
      "text/plain": [
       "1.6779661016949152"
      ]
     },
     "execution_count": 176,
     "metadata": {},
     "output_type": "execute_result"
    }
   ],
   "source": [
    "two.mean()"
   ]
  },
  {
   "cell_type": "code",
   "execution_count": 177,
   "id": "a4eed62e",
   "metadata": {},
   "outputs": [
    {
     "data": {
      "text/plain": [
       "1.547008547008547"
      ]
     },
     "execution_count": 177,
     "metadata": {},
     "output_type": "execute_result"
    }
   ],
   "source": [
    "three.mean()"
   ]
  },
  {
   "cell_type": "code",
   "execution_count": 178,
   "id": "05b266e5",
   "metadata": {},
   "outputs": [
    {
     "data": {
      "text/plain": [
       "1.7"
      ]
     },
     "execution_count": 178,
     "metadata": {},
     "output_type": "execute_result"
    }
   ],
   "source": [
    "four.mean()"
   ]
  },
  {
   "cell_type": "code",
   "execution_count": 179,
   "id": "82d5f209",
   "metadata": {},
   "outputs": [
    {
     "data": {
      "text/plain": [
       "F_onewayResult(statistic=1.0249927945692117, pvalue=0.3816737451872579)"
      ]
     },
     "execution_count": 179,
     "metadata": {},
     "output_type": "execute_result"
    }
   ],
   "source": [
    "stats.f_oneway(one,two,three,four)"
   ]
  },
  {
   "cell_type": "markdown",
   "id": "f919b182",
   "metadata": {},
   "source": [
    "pvalue=0.3816737451872579,which is greater than 0.05,so, we cannot reject null hypothesis .\n",
    "With 95 percent confidence interval,we cannot say that Age is a factor linked to satisfaction with this data."
   ]
  },
  {
   "cell_type": "code",
   "execution_count": 180,
   "id": "8edee7ba",
   "metadata": {},
   "outputs": [],
   "source": [
    "# factor 8= Income"
   ]
  },
  {
   "cell_type": "code",
   "execution_count": 181,
   "id": "7e63643b",
   "metadata": {},
   "outputs": [
    {
     "data": {
      "text/plain": [
       "1.0    158\n",
       "3.0     90\n",
       "2.0     82\n",
       "Name: Income, dtype: int64"
      ]
     },
     "execution_count": 181,
     "metadata": {},
     "output_type": "execute_result"
    }
   ],
   "source": [
    "films.Income.value_counts()"
   ]
  },
  {
   "cell_type": "code",
   "execution_count": 182,
   "id": "14bbb1b2",
   "metadata": {},
   "outputs": [],
   "source": [
    "income1=films.query('Income==1').Overall\n",
    "income2=films.query('Income==2').Overall\n",
    "income3=films.query('Income==3').Overall\n"
   ]
  },
  {
   "cell_type": "code",
   "execution_count": 183,
   "id": "173e549e",
   "metadata": {},
   "outputs": [
    {
     "data": {
      "text/plain": [
       "F_onewayResult(statistic=0.16488481054397225, pvalue=0.8480618362664597)"
      ]
     },
     "execution_count": 183,
     "metadata": {},
     "output_type": "execute_result"
    }
   ],
   "source": [
    "stats.f_oneway(income1,income2,income3)"
   ]
  },
  {
   "cell_type": "markdown",
   "id": "ee66ed90",
   "metadata": {},
   "source": [
    "pvalue=0.8480618362664597,which is greater than 0.05,so, we cannot reject null hypothesis .\n",
    "With 95 percent confidence interval,we cannot say that Income is a factor linked to satisfaction with this data."
   ]
  },
  {
   "cell_type": "code",
   "execution_count": 184,
   "id": "b981710f",
   "metadata": {},
   "outputs": [],
   "source": [
    "# factor 9 = Hear_About"
   ]
  },
  {
   "cell_type": "code",
   "execution_count": 185,
   "id": "8c322292",
   "metadata": {},
   "outputs": [
    {
     "data": {
      "text/plain": [
       "5      233\n",
       "4       41\n",
       "1       22\n",
       "3       14\n",
       "2       12\n",
       "2,5      2\n",
       "3,4      2\n",
       "4,5      1\n",
       "1,5      1\n",
       "5,4      1\n",
       "3,5      1\n",
       "Name: Hear_About, dtype: int64"
      ]
     },
     "execution_count": 185,
     "metadata": {},
     "output_type": "execute_result"
    }
   ],
   "source": [
    "films.Hear_About.value_counts()"
   ]
  },
  {
   "cell_type": "code",
   "execution_count": 186,
   "id": "0b1e6a0f",
   "metadata": {},
   "outputs": [],
   "source": [
    "Hear_About_5=films.query('Hear_About==\"5\"').Overall\n",
    "Hear_About_4=films.query('Hear_About==\"4\"').Overall\n",
    "Hear_About_3=films.query('Hear_About==\"3\"').Overall\n",
    "Hear_About_2=films.query('Hear_About==\"2\"').Overall\n",
    "Hear_About_1=films.query('Hear_About==\"1\"').Overall\n",
    "Hear_About_2_5=films.query('Hear_About==\"2,5\"').Overall\n",
    "Hear_About_3_4=films.query('Hear_About==\"3,4\"').Overall\n",
    "Hear_About_4_5=films.query('Hear_About==\"4,5\"').Overall\n",
    "Hear_About_1_5=films.query('Hear_About==\"1,5\"').Overall\n",
    "Hear_About_5_4=films.query('Hear_About==\"5,4\"').Overall\n",
    "Hear_About_3_5=films.query('Hear_About==\"3,5\"').Overall"
   ]
  },
  {
   "cell_type": "code",
   "execution_count": 187,
   "id": "a4279abd",
   "metadata": {},
   "outputs": [
    {
     "data": {
      "text/plain": [
       "F_onewayResult(statistic=1.457397539085138, pvalue=0.15433478299883888)"
      ]
     },
     "execution_count": 187,
     "metadata": {},
     "output_type": "execute_result"
    }
   ],
   "source": [
    "stats.f_oneway(Hear_About_5,Hear_About_4,Hear_About_3,Hear_About_2,Hear_About_1,Hear_About_2_5,Hear_About_3_4,Hear_About_4_5,Hear_About_1_5,Hear_About_5_4,Hear_About_3_5)"
   ]
  },
  {
   "cell_type": "markdown",
   "id": "86277bc9",
   "metadata": {},
   "source": [
    "pvalue=0.15433478299883888,which is greater than 0.05,so, we cannot reject null hypothesis .\n",
    "With 95 percent confidence interval,we cannot say that Hear_about is a factor linked to satisfaction with this data."
   ]
  },
  {
   "cell_type": "markdown",
   "id": "20a24556",
   "metadata": {},
   "source": [
    "So from above hypothesis prediction , sinage,parking and clean are factors linked to satisfaction"
   ]
  },
  {
   "cell_type": "markdown",
   "id": "12d2e939",
   "metadata": {},
   "source": [
    "# c.) What is the demographic profile of Film on the Rocks patrons?"
   ]
  },
  {
   "cell_type": "code",
   "execution_count": 188,
   "id": "7ebd002b",
   "metadata": {},
   "outputs": [
    {
     "data": {
      "image/png": "[encoded data removed]",
      "text/plain": [
       "<Figure size 640x480 with 1 Axes>"
      ]
     },
     "metadata": {},
     "output_type": "display_data"
    }
   ],
   "source": [
    "gender=(((films.Gender.value_counts())/(films.shape[0])*100)).reset_index().set_index('index')\n",
    "plt.pie(gender.Gender,labels=gender.index,autopct='%0.2f %%')\n",
    "plt.show()\n"
   ]
  },
  {
   "cell_type": "code",
   "execution_count": 189,
   "id": "173eea89",
   "metadata": {},
   "outputs": [
    {
     "data": {
      "image/png": "[encoded data removed]",
      "text/plain": [
       "<Figure size 640x480 with 1 Axes>"
      ]
     },
     "metadata": {},
     "output_type": "display_data"
    }
   ],
   "source": [
    "marital_status=(((films.Marital_Status.value_counts())/(films.shape[0])*100)).reset_index().set_index('index')\n",
    "plt.pie(marital_status.Marital_Status,labels=marital_status.index,autopct='%0.2f %%')\n",
    "plt.show()"
   ]
  },
  {
   "cell_type": "code",
   "execution_count": 190,
   "id": "c4f43daa",
   "metadata": {},
   "outputs": [
    {
     "data": {
      "image/png": "[encoded data removed]",
      "text/plain": [
       "<Figure size 640x480 with 1 Axes>"
      ]
     },
     "metadata": {},
     "output_type": "display_data"
    }
   ],
   "source": [
    "age=(((films.Age.value_counts())/(films.shape[0])*100)).reset_index().set_index('index')\n",
    "plt.pie(age.Age,labels=['13-30','31-60','1-12','60+'],autopct='%0.2f %%')\n",
    "plt.show()"
   ]
  },
  {
   "cell_type": "code",
   "execution_count": 191,
   "id": "75b9427c",
   "metadata": {},
   "outputs": [
    {
     "data": {
      "image/png": "[encoded data removed]",
      "text/plain": [
       "<Figure size 640x480 with 1 Axes>"
      ]
     },
     "metadata": {},
     "output_type": "display_data"
    }
   ],
   "source": [
    "income=(((films.Income.value_counts())/(films.shape[0])*100)).reset_index().set_index('index')\n",
    "plt.pie(income.Income,labels=['Less than $50,000','$100,000+','$50-$100,000'],autopct='%0.2f %%')\n",
    "plt.show()"
   ]
  },
  {
   "cell_type": "markdown",
   "id": "7fc76feb",
   "metadata": {},
   "source": [
    "# d.) In what media outlet(s) should the film series be advertised?"
   ]
  },
  {
   "cell_type": "code",
   "execution_count": 192,
   "id": "a9dd6dbf",
   "metadata": {},
   "outputs": [
    {
     "data": {
      "text/plain": [
       "Hear_About\n",
       "5    233\n",
       "4     41\n",
       "1     22\n",
       "Name: Hear_About, dtype: int64"
      ]
     },
     "execution_count": 192,
     "metadata": {},
     "output_type": "execute_result"
    }
   ],
   "source": [
    "films.groupby('Hear_About').Hear_About.count().sort_values(ascending = False).head(3)"
   ]
  },
  {
   "cell_type": "code",
   "execution_count": null,
   "id": "3e2e2bbc",
   "metadata": {},
   "outputs": [],
   "source": [
    "The film series should be advertised by Word of mouth"
   ]
  }
 ],
 "metadata": {
  "kernelspec": {
   "display_name": "Python 3 (ipykernel)",
   "language": "python",
   "name": "python3"
  },
  "language_info": {
   "codemirror_mode": {
    "name": "ipython",
    "version": 3
   },
   "file_extension": ".py",
   "mimetype": "text/x-python",
   "name": "python",
   "nbconvert_exporter": "python",
   "pygments_lexer": "ipython3",
   "version": "3.11.4"
  }
 },
 "nbformat": 4,
 "nbformat_minor": 5
}
